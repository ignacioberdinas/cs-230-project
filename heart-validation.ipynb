{
 "cells": [
  {
   "cell_type": "code",
   "execution_count": 1,
   "id": "69dc8a33",
   "metadata": {},
   "outputs": [],
   "source": [
    "import pandas as pd\n",
    "from torch.utils.data import DataLoader, Dataset\n",
    "import os\n",
    "import cv2\n",
    "import numpy as np\n",
    "import torch\n",
    "from torch.utils.data import DataLoader, Dataset\n",
    "from PIL import Image\n",
    "import torchvision\n",
    "from torchvision.models.detection.faster_rcnn import FastRCNNPredictor\n",
    "\n",
    "from datasets.heartdatasets import VinBigDataHeartDataset\n",
    "\n",
    "import torchvision.transforms as T\n",
    "from models.fastrcnn import get_model"
   ]
  },
  {
   "cell_type": "code",
   "execution_count": 2,
   "id": "797ee21f",
   "metadata": {},
   "outputs": [],
   "source": [
    "def get_transform(train):\n",
    "    transforms = []\n",
    "    transforms.append(T.ToTensor())\n",
    "    return T.Compose(transforms)"
   ]
  },
  {
   "cell_type": "code",
   "execution_count": 3,
   "id": "6cdc0071",
   "metadata": {},
   "outputs": [],
   "source": [
    "def get_vinbigdata_dataframe(path):\n",
    "    IMG_SIZE = 512\n",
    "    df = pd.read_csv(path)\n",
    "    df['x_min'] = IMG_SIZE * df['x_min'] / df['width']\n",
    "    df['x_max'] = IMG_SIZE * df['x_max'] / df['width']\n",
    "    df['y_min'] = IMG_SIZE * df['y_min'] / df['height']\n",
    "    df['y_max'] = IMG_SIZE * df['y_max'] / df['height']\n",
    "    df = df[df.class_name.eq('Cardiomegaly')]\n",
    "    return df"
   ]
  },
  {
   "cell_type": "code",
   "execution_count": 4,
   "id": "2dae49a4",
   "metadata": {},
   "outputs": [],
   "source": [
    "from sklearn.model_selection import train_test_split\n",
    "\n",
    "df = get_vinbigdata_dataframe('./data/vinbigdata/train.csv')\n",
    "df_train, df_test = train_test_split(df, test_size=0.33, random_state=42)\n",
    "\n",
    "#TODO: Check bug with data augmentation\n",
    "ds_train = VinBigDataHeartDataset(df, './data/vinbigdata/train/', get_transform(train=False))\n",
    "ds_test = VinBigDataHeartDataset(df, './data/vinbigdata/train/', get_transform(train=False))"
   ]
  },
  {
   "cell_type": "code",
   "execution_count": 5,
   "id": "3955a143",
   "metadata": {},
   "outputs": [
    {
     "data": {
      "text/plain": [
       "(tensor([[[0.0000, 0.0000, 0.0000,  ..., 0.0000, 0.4471, 0.0000],\n",
       "          [0.0000, 0.0000, 0.0000,  ..., 0.0000, 0.0000, 0.0000],\n",
       "          [0.0000, 0.0000, 0.0000,  ..., 0.0000, 0.0000, 0.0000],\n",
       "          ...,\n",
       "          [0.2902, 0.3098, 0.3176,  ..., 0.0353, 0.0196, 0.0000],\n",
       "          [0.3098, 0.3059, 0.3216,  ..., 0.0392, 0.0235, 0.0000],\n",
       "          [0.1608, 0.3176, 0.3137,  ..., 0.0431, 0.0235, 0.0039]],\n",
       " \n",
       "         [[0.0000, 0.0000, 0.0000,  ..., 0.0000, 0.4471, 0.0000],\n",
       "          [0.0000, 0.0000, 0.0000,  ..., 0.0000, 0.0000, 0.0000],\n",
       "          [0.0000, 0.0000, 0.0000,  ..., 0.0000, 0.0000, 0.0000],\n",
       "          ...,\n",
       "          [0.2902, 0.3098, 0.3176,  ..., 0.0353, 0.0196, 0.0000],\n",
       "          [0.3098, 0.3059, 0.3216,  ..., 0.0392, 0.0235, 0.0000],\n",
       "          [0.1608, 0.3176, 0.3137,  ..., 0.0431, 0.0235, 0.0039]],\n",
       " \n",
       "         [[0.0000, 0.0000, 0.0000,  ..., 0.0000, 0.4471, 0.0000],\n",
       "          [0.0000, 0.0000, 0.0000,  ..., 0.0000, 0.0000, 0.0000],\n",
       "          [0.0000, 0.0000, 0.0000,  ..., 0.0000, 0.0000, 0.0000],\n",
       "          ...,\n",
       "          [0.2902, 0.3098, 0.3176,  ..., 0.0353, 0.0196, 0.0000],\n",
       "          [0.3098, 0.3059, 0.3216,  ..., 0.0392, 0.0235, 0.0000],\n",
       "          [0.1608, 0.3176, 0.3137,  ..., 0.0431, 0.0235, 0.0039]]]),\n",
       " {'boxes': tensor([[170.0923, 301.3699, 406.8923, 401.3151],\n",
       "          [170.3385, 301.3699, 407.8769, 394.3014],\n",
       "          [169.6000, 287.7808, 410.0923, 386.4109]]),\n",
       "  'labels': tensor([1, 1, 1]),\n",
       "  'image_id': tensor([0]),\n",
       "  'area': tensor([23667.0215, 22074.8027, 23719.7871]),\n",
       "  'iscrowd': tensor([0, 0, 0])})"
      ]
     },
     "execution_count": 5,
     "metadata": {},
     "output_type": "execute_result"
    }
   ],
   "source": [
    "ds_train[0]"
   ]
  },
  {
   "cell_type": "code",
   "execution_count": 6,
   "id": "e9b35376",
   "metadata": {},
   "outputs": [
    {
     "data": {
      "text/plain": [
       "torch.Size([3, 512, 512])"
      ]
     },
     "execution_count": 6,
     "metadata": {},
     "output_type": "execute_result"
    }
   ],
   "source": [
    "ds_train[0][0].shape"
   ]
  },
  {
   "cell_type": "code",
   "execution_count": 7,
   "id": "ae8c6d8c",
   "metadata": {},
   "outputs": [],
   "source": [
    "from datasets.heartdatasets import CheXpertHeartDataset\n",
    "import torch"
   ]
  },
  {
   "cell_type": "code",
   "execution_count": 8,
   "id": "3c66b6dc",
   "metadata": {},
   "outputs": [
    {
     "name": "stdout",
     "output_type": "stream",
     "text": [
      "200 200 400\n"
     ]
    }
   ],
   "source": [
    "ds_train_no_finding = CheXpertHeartDataset('./data/hand-label/nofinding/','../CheXpert-v1.0-small/train' ,get_transform(train=False), test= True)\n",
    "ds_train_cardiomegaly = CheXpertHeartDataset('./data/hand-label/cardiomegaly-certain/','../CheXpert-v1.0-small/train' ,get_transform(train=False), test= True)\n",
    "\n",
    "ds_train_chexpert = torch.utils.data.ConcatDataset([ds_train_no_finding, ds_train_cardiomegaly])\n",
    "print(len(ds_train_no_finding), len(ds_train_cardiomegaly), len(ds_train_chexpert))\n",
    "train_ds_chexpert,val_ds_chexpert = torch.utils.data.random_split(ds_train_chexpert, [len(ds_train_chexpert) - 100, 100], generator=torch.Generator().manual_seed(42))\n",
    "\n"
   ]
  },
  {
   "cell_type": "code",
   "execution_count": 9,
   "id": "90af94f3",
   "metadata": {},
   "outputs": [
    {
     "name": "stdout",
     "output_type": "stream",
     "text": [
      "200\n",
      "200\n"
     ]
    }
   ],
   "source": [
    "labeled = [x[1]['extra'].replace('/','_',2) for x in ds_train_cardiomegaly]\n",
    "for idx,i in enumerate(os.listdir('../chexpert-validation/cardiomegaly')):\n",
    "    if i not in labeled:\n",
    "        print(idx,i)\n",
    "\n",
    "print(len(os.listdir('../chexpert-validation/cardiomegaly')))\n",
    "print(len(labeled))"
   ]
  },
  {
   "cell_type": "code",
   "execution_count": 10,
   "id": "15b3cd14",
   "metadata": {},
   "outputs": [
    {
     "name": "stdout",
     "output_type": "stream",
     "text": [
      "200\n",
      "200\n"
     ]
    }
   ],
   "source": [
    "labeled = [x[1]['extra'].replace('/','_',2) for x in ds_train_no_finding ]\n",
    "for idx,i in enumerate(os.listdir('../chexpert-validation/nofinding')):\n",
    "    if i not in labeled:\n",
    "        print(idx,i)\n",
    "\n",
    "print(len(os.listdir('../chexpert-validation/nofinding')))\n",
    "print(len(labeled))"
   ]
  },
  {
   "cell_type": "code",
   "execution_count": 11,
   "id": "91909a29",
   "metadata": {},
   "outputs": [
    {
     "name": "stdout",
     "output_type": "stream",
     "text": [
      "['patient00013_study1_view1_frontal.jpg', 'patient00375_study1_view1_frontal.jpg', 'patient00500_study2_view1_frontal.jpg', 'patient00587_study1_view1_frontal.jpg', 'patient00640_study1_view1_frontal.jpg', 'patient00876_study1_view1_frontal.jpg', 'patient00881_study1_view1_frontal.jpg', 'patient01094_study11_view1_frontal.jpg', 'patient01134_study1_view1_frontal.jpg', 'patient01256_study1_view1_frontal.jpg', 'patient01544_study1_view1_frontal.jpg', 'patient01558_study2_view1_frontal.jpg', 'patient01572_study1_view1_frontal.jpg', 'patient01840_study1_view1_frontal.jpg', 'patient02134_study1_view1_frontal.jpg', 'patient02203_study13_view1_frontal.jpg', 'patient02500_study1_view1_frontal.jpg', 'patient02506_study2_view1_frontal.jpg', 'patient02778_study14_view1_frontal.jpg', 'patient02886_study6_view1_frontal.jpg', 'patient03113_study1_view1_frontal.jpg', 'patient03397_study1_view1_frontal.jpg', 'patient04039_study1_view1_frontal.jpg', 'patient04097_study1_view1_frontal.jpg', 'patient04306_study1_view1_frontal.jpg', 'patient04676_study1_view1_frontal.jpg', 'patient04680_study2_view1_frontal.jpg', 'patient05238_study3_view1_frontal.jpg', 'patient06771_study1_view2_frontal.jpg', 'patient06845_study3_view1_frontal.jpg', 'patient07193_study2_view1_frontal.jpg', 'patient07215_study1_view1_frontal.jpg', 'patient07399_study1_view1_frontal.jpg', 'patient07524_study1_view1_frontal.jpg', 'patient07573_study1_view1_frontal.jpg', 'patient07935_study1_view1_frontal.jpg', 'patient08203_study2_view1_frontal.jpg', 'patient08343_study1_view1_frontal.jpg', 'patient08555_study1_view1_frontal.jpg', 'patient08600_study1_view1_frontal.jpg', 'patient08771_study1_view1_frontal.jpg', 'patient09135_study1_view1_frontal.jpg', 'patient09150_study2_view1_frontal.jpg', 'patient09326_study1_view1_frontal.jpg', 'patient09340_study3_view1_frontal.jpg', 'patient09559_study1_view1_frontal.jpg', 'patient09729_study1_view1_frontal.jpg', 'patient09863_study1_view1_frontal.jpg', 'patient10162_study1_view1_frontal.jpg', 'patient10182_study4_view1_frontal.jpg', 'patient10247_study1_view2_frontal.jpg', 'patient10398_study3_view1_frontal.jpg', 'patient10424_study1_view1_frontal.jpg', 'patient10662_study1_view1_frontal.jpg', 'patient10738_study3_view1_frontal.jpg', 'patient10739_study1_view1_frontal.jpg', 'patient10980_study1_view1_frontal.jpg', 'patient11069_study3_view1_frontal.jpg', 'patient11182_study1_view1_frontal.jpg', 'patient11220_study1_view1_frontal.jpg', 'patient11232_study1_view1_frontal.jpg', 'patient11945_study1_view1_frontal.jpg', 'patient12188_study1_view1_frontal.jpg', 'patient12397_study1_view1_frontal.jpg', 'patient12476_study1_view1_frontal.jpg', 'patient12600_study3_view1_frontal.jpg', 'patient13039_study1_view1_frontal.jpg', 'patient13081_study1_view1_frontal.jpg', 'patient13102_study12_view1_frontal.jpg', 'patient13296_study6_view1_frontal.jpg', 'patient13303_study1_view1_frontal.jpg', 'patient13529_study1_view1_frontal.jpg', 'patient13633_study2_view1_frontal.jpg', 'patient13653_study2_view1_frontal.jpg', 'patient13697_study2_view1_frontal.jpg', 'patient13930_study1_view1_frontal.jpg', 'patient13965_study1_view1_frontal.jpg', 'patient14155_study4_view1_frontal.jpg', 'patient14225_study1_view1_frontal.jpg', 'patient14465_study2_view1_frontal.jpg', 'patient14688_study1_view1_frontal.jpg', 'patient14709_study1_view1_frontal.jpg', 'patient14763_study1_view1_frontal.jpg', 'patient14768_study1_view1_frontal.jpg', 'patient14817_study1_view1_frontal.jpg', 'patient14938_study1_view1_frontal.jpg', 'patient15009_study11_view1_frontal.jpg', 'patient15180_study1_view1_frontal.jpg', 'patient15390_study1_view1_frontal.jpg', 'patient15469_study5_view1_frontal.jpg', 'patient15848_study1_view1_frontal.jpg', 'patient15898_study1_view1_frontal.jpg', 'patient16017_study1_view1_frontal.jpg', 'patient16250_study3_view1_frontal.jpg', 'patient16259_study3_view1_frontal.jpg', 'patient16456_study1_view2_frontal.jpg', 'patient16571_study1_view1_frontal.jpg', 'patient16579_study8_view1_frontal.jpg', 'patient16821_study1_view1_frontal.jpg', 'patient16846_study1_view1_frontal.jpg', 'patient17011_study1_view1_frontal.jpg', 'patient17041_study1_view1_frontal.jpg', 'patient17323_study1_view1_frontal.jpg', 'patient17358_study1_view1_frontal.jpg', 'patient17678_study16_view1_frontal.jpg', 'patient17910_study1_view1_frontal.jpg', 'patient18590_study1_view1_frontal.jpg', 'patient18604_study2_view1_frontal.jpg', 'patient18734_study1_view1_frontal.jpg', 'patient18753_study1_view1_frontal.jpg', 'patient19204_study1_view1_frontal.jpg', 'patient19274_study3_view1_frontal.jpg', 'patient19503_study1_view1_frontal.jpg', 'patient19516_study2_view1_frontal.jpg', 'patient19518_study2_view1_frontal.jpg', 'patient19816_study1_view1_frontal.jpg', 'patient19911_study9_view1_frontal.jpg', 'patient19964_study1_view1_frontal.jpg', 'patient20085_study3_view1_frontal.jpg', 'patient20286_study1_view1_frontal.jpg', 'patient20500_study2_view1_frontal.jpg', 'patient20761_study1_view1_frontal.jpg', 'patient21071_study2_view1_frontal.jpg', 'patient21116_study2_view1_frontal.jpg', 'patient21250_study2_view1_frontal.jpg', 'patient21493_study1_view1_frontal.jpg', 'patient21562_study1_view1_frontal.jpg', 'patient21605_study2_view1_frontal.jpg', 'patient22025_study1_view1_frontal.jpg', 'patient22124_study3_view1_frontal.jpg', 'patient22127_study1_view1_frontal.jpg', 'patient22482_study3_view1_frontal.jpg', 'patient22511_study1_view1_frontal.jpg', 'patient22594_study2_view1_frontal.jpg', 'patient22735_study6_view1_frontal.jpg', 'patient22807_study1_view1_frontal.jpg', 'patient22961_study3_view1_frontal.jpg', 'patient23568_study1_view1_frontal.jpg', 'patient23581_study2_view1_frontal.jpg', 'patient23611_study1_view1_frontal.jpg', 'patient23864_study2_view1_frontal.jpg', 'patient24262_study4_view1_frontal.jpg', 'patient24320_study2_view1_frontal.jpg', 'patient24423_study2_view1_frontal.jpg', 'patient24803_study1_view1_frontal.jpg', 'patient25138_study1_view1_frontal.jpg', 'patient25605_study2_view1_frontal.jpg', 'patient25661_study8_view1_frontal.jpg', 'patient26146_study1_view1_frontal.jpg', 'patient26444_study1_view1_frontal.jpg', 'patient26579_study3_view1_frontal.jpg', 'patient26587_study1_view1_frontal.jpg', 'patient26677_study1_view1_frontal.jpg', 'patient26931_study4_view1_frontal.jpg', 'patient27224_study1_view1_frontal.jpg', 'patient27330_study1_view1_frontal.jpg', 'patient27631_study1_view1_frontal.jpg', 'patient27667_study1_view1_frontal.jpg', 'patient27712_study4_view1_frontal.jpg', 'patient27759_study1_view1_frontal.jpg', 'patient28157_study1_view1_frontal.jpg', 'patient28189_study1_view1_frontal.jpg', 'patient28395_study2_view1_frontal.jpg', 'patient28465_study1_view1_frontal.jpg', 'patient28691_study1_view1_frontal.jpg', 'patient28812_study1_view1_frontal.jpg', 'patient29086_study2_view1_frontal.jpg', 'patient29392_study4_view1_frontal.jpg', 'patient29511_study1_view2_frontal.jpg', 'patient29574_study1_view1_frontal.jpg', 'patient29934_study1_view1_frontal.jpg', 'patient30084_study1_view1_frontal.jpg', 'patient30231_study4_view1_frontal.jpg', 'patient30268_study1_view1_frontal.jpg', 'patient30613_study1_view1_frontal.jpg', 'patient30661_study1_view1_frontal.jpg', 'patient30750_study1_view1_frontal.jpg', 'patient30854_study1_view1_frontal.jpg', 'patient30984_study2_view1_frontal.jpg', 'patient31010_study3_view1_frontal.jpg', 'patient31070_study2_view1_frontal.jpg', 'patient31148_study1_view1_frontal.jpg', 'patient31288_study1_view1_frontal.jpg', 'patient31305_study1_view1_frontal.jpg', 'patient31459_study1_view1_frontal.jpg', 'patient31790_study2_view1_frontal.jpg', 'patient31882_study1_view1_frontal.jpg', 'patient31912_study1_view1_frontal.jpg', 'patient31996_study1_view1_frontal.jpg', 'patient32017_study1_view1_frontal.jpg', 'patient32043_study1_view1_frontal.jpg', 'patient32209_study3_view2_frontal.jpg', 'patient32344_study1_view1_frontal.jpg', 'patient32351_study1_view1_frontal.jpg', 'patient32524_study1_view1_frontal.jpg', 'patient33057_study1_view1_frontal.jpg', 'patient33169_study1_view1_frontal.jpg', 'patient33346_study5_view1_frontal.jpg', 'patient33677_study1_view1_frontal.jpg', 'patient34405_study1_view1_frontal.jpg']\n"
     ]
    }
   ],
   "source": [
    "print(labeled)"
   ]
  },
  {
   "cell_type": "code",
   "execution_count": 12,
   "id": "ca4318bd",
   "metadata": {},
   "outputs": [
    {
     "name": "stdout",
     "output_type": "stream",
     "text": [
      "patient33169/study1/view1_frontal.jpg\n",
      "patient10398/study3/view1_frontal.jpg\n",
      "patient14763/study1/view1_frontal.jpg\n",
      "patient26444/study1/view1_frontal.jpg\n",
      "patient16357/study1/view1_frontal.jpg\n",
      "patient06845/study3/view1_frontal.jpg\n",
      "patient21750/study1/view1_frontal.jpg\n",
      "patient31070/study2/view1_frontal.jpg\n",
      "patient02031/study1/view1_frontal.jpg\n",
      "patient15296/study6/view1_frontal.jpg\n"
     ]
    }
   ],
   "source": [
    "for i in range(10):\n",
    "    #print(ds_train_chexpert[i][1]['extra'])\n",
    "    print(val_ds_chexpert[i][1]['extra'])"
   ]
  },
  {
   "cell_type": "code",
   "execution_count": null,
   "id": "e0eb6a53",
   "metadata": {},
   "outputs": [],
   "source": []
  },
  {
   "cell_type": "code",
   "execution_count": 13,
   "id": "e0c62e49",
   "metadata": {},
   "outputs": [
    {
     "data": {
      "text/plain": [
       "100"
      ]
     },
     "execution_count": 13,
     "metadata": {},
     "output_type": "execute_result"
    }
   ],
   "source": [
    "len(val_ds_chexpert)"
   ]
  },
  {
   "cell_type": "code",
   "execution_count": 14,
   "id": "4fe096bd",
   "metadata": {},
   "outputs": [
    {
     "data": {
      "text/plain": [
       "(tensor([[[0.9961, 0.9882, 0.9098,  ..., 0.6667, 0.6902, 0.7608],\n",
       "          [0.9569, 0.7294, 0.5255,  ..., 0.3216, 0.3765, 0.4745],\n",
       "          [0.6431, 0.4510, 0.3765,  ..., 0.1765, 0.2196, 0.3804],\n",
       "          ...,\n",
       "          [0.4000, 0.2784, 0.2196,  ..., 0.1373, 0.1490, 0.1961],\n",
       "          [0.5137, 0.3373, 0.2627,  ..., 0.1490, 0.1647, 0.2157],\n",
       "          [0.5373, 0.4667, 0.3765,  ..., 0.1804, 0.2314, 0.2667]],\n",
       " \n",
       "         [[0.9961, 0.9882, 0.9098,  ..., 0.6667, 0.6902, 0.7608],\n",
       "          [0.9569, 0.7294, 0.5255,  ..., 0.3216, 0.3765, 0.4745],\n",
       "          [0.6431, 0.4510, 0.3765,  ..., 0.1765, 0.2196, 0.3804],\n",
       "          ...,\n",
       "          [0.4000, 0.2784, 0.2196,  ..., 0.1373, 0.1490, 0.1961],\n",
       "          [0.5137, 0.3373, 0.2627,  ..., 0.1490, 0.1647, 0.2157],\n",
       "          [0.5373, 0.4667, 0.3765,  ..., 0.1804, 0.2314, 0.2667]],\n",
       " \n",
       "         [[0.9961, 0.9882, 0.9098,  ..., 0.6667, 0.6902, 0.7608],\n",
       "          [0.9569, 0.7294, 0.5255,  ..., 0.3216, 0.3765, 0.4745],\n",
       "          [0.6431, 0.4510, 0.3765,  ..., 0.1765, 0.2196, 0.3804],\n",
       "          ...,\n",
       "          [0.4000, 0.2784, 0.2196,  ..., 0.1373, 0.1490, 0.1961],\n",
       "          [0.5137, 0.3373, 0.2627,  ..., 0.1490, 0.1647, 0.2157],\n",
       "          [0.5373, 0.4667, 0.3765,  ..., 0.1804, 0.2314, 0.2667]]]),\n",
       " {'boxes': tensor([[120.1830, 165.4259, 206.7955, 229.8721]]),\n",
       "  'labels': tensor([1]),\n",
       "  'image_id': tensor([9]),\n",
       "  'extra': 'patient01256/study1/view1_frontal.jpg',\n",
       "  'area': tensor([5581.8462]),\n",
       "  'iscrowd': tensor([0])})"
      ]
     },
     "execution_count": 14,
     "metadata": {},
     "output_type": "execute_result"
    }
   ],
   "source": [
    "ds_train_chexpert[9]"
   ]
  },
  {
   "cell_type": "code",
   "execution_count": 15,
   "id": "e52164f7",
   "metadata": {},
   "outputs": [
    {
     "name": "stderr",
     "output_type": "stream",
     "text": [
      "Clipping input data to the valid range for imshow with RGB data ([0..1] for floats or [0..255] for integers).\n"
     ]
    },
    {
     "name": "stdout",
     "output_type": "stream",
     "text": [
      "(320, 320, 3)\n",
      "121 175 224 250\n"
     ]
    },
    {
     "data": {
      "text/plain": [
       "<matplotlib.image.AxesImage at 0x20781400c10>"
      ]
     },
     "execution_count": 15,
     "metadata": {},
     "output_type": "execute_result"
    },
    {
     "data": {
      "image/png": "[encoded data removed]",
      "text/plain": [
       "<Figure size 432x288 with 1 Axes>"
      ]
     },
     "metadata": {
      "needs_background": "light"
     },
     "output_type": "display_data"
    }
   ],
   "source": [
    "from matplotlib.pyplot import imshow\n",
    "import matplotlib.pyplot as plt\n",
    "import numpy as np\n",
    "from PIL import Image\n",
    "from matplotlib.pyplot import figure\n",
    "import cv2\n",
    "\n",
    "x0,y0,x1,y1 = ds_train_chexpert[10][1]['boxes'].cpu().numpy()[0].astype(int)\n",
    "img = ds_train_chexpert[10][0].permute(1,2,0).cpu().numpy()\n",
    "\n",
    "print(img.shape)\n",
    "print(x0,y0,x1,y1)\n",
    "im = cv2.rectangle(img.copy(), (x0,y0) , (x1,y1), (0,0,255), 4)\n",
    "imshow(im)"
   ]
  },
  {
   "cell_type": "code",
   "execution_count": 16,
   "id": "8d1071a9",
   "metadata": {},
   "outputs": [
    {
     "name": "stdout",
     "output_type": "stream",
     "text": [
      "100\n"
     ]
    }
   ],
   "source": [
    "print(len(val_ds_chexpert))\n",
    "\n",
    "ground_truth = {}\n",
    "for idx in range(len(val_ds_chexpert)):\n",
    "    image, data = val_ds_chexpert[idx]\n",
    "    if 'boxes' in data:\n",
    "        ground_truth[data['extra']] =  data['boxes'][0].cpu().numpy()\n",
    "        #x0,y0,x1,y1\n",
    "    #print(x0,y0,x1,y1)"
   ]
  },
  {
   "cell_type": "code",
   "execution_count": 17,
   "id": "691d675b",
   "metadata": {},
   "outputs": [
    {
     "data": {
      "text/plain": [
       "{'patient33169/study1/view1_frontal.jpg': array([140.13792, 179.64143, 220.4688 , 218.48273], dtype=float32),\n",
       " 'patient10398/study3/view1_frontal.jpg': array([158.45856, 169.4896 , 270.12756, 229.95872], dtype=float32),\n",
       " 'patient14763/study1/view1_frontal.jpg': array([141.46208, 204.8    , 250.48288, 249.3792 ], dtype=float32),\n",
       " 'patient26444/study1/view1_frontal.jpg': array([136.60704, 203.91711, 245.18623, 251.14464], dtype=float32),\n",
       " 'patient16357/study1/view1_frontal.jpg': array([115.61711, 190.2344 , 298.34808, 289.5448 ], dtype=float32),\n",
       " 'patient06845/study3/view1_frontal.jpg': array([161.10706, 170.37248, 276.74835, 249.8208 ], dtype=float32),\n",
       " 'patient21750/study1/view1_frontal.jpg': array([103.06192, 152.276  , 229.29648, 239.66896], dtype=float32),\n",
       " 'patient31070/study2/view1_frontal.jpg': array([126.45504, 197.73792, 218.70335, 241.43456], dtype=float32),\n",
       " 'patient02031/study1/view1_frontal.jpg': array([139.3517 , 179.64192, 253.92975, 258.2096 ], dtype=float32),\n",
       " 'patient15296/study6/view1_frontal.jpg': array([113.06752, 135.92697, 258.29248, 217.39452], dtype=float32),\n",
       " 'patient30984/study2/view1_frontal.jpg': array([111.44816, 222.89648, 216.93776, 260.8552 ], dtype=float32),\n",
       " 'patient26677/study1/view1_frontal.jpg': array([136.60704, 188.91023, 232.38625, 234.37231], dtype=float32),\n",
       " 'patient34405/study1/view1_frontal.jpg': array([158.89989, 191.55856, 253.79636, 230.84145], dtype=float32),\n",
       " 'patient18734/study1/view1_frontal.jpg': array([169.02417, 171.69664, 276.72058, 229.07584], dtype=float32),\n",
       " 'patient13853/study5/view1_frontal.jpg': array([104.01376, 137.91724, 240.1104 , 220.75845], dtype=float32),\n",
       " 'patient30750/study1/view1_frontal.jpg': array([130.42752, 200.82768, 226.20673, 256.44144], dtype=float32),\n",
       " 'patient04039/study1/view1_frontal.jpg': array([128.86688, 165.34125, 228.99744, 225.08305], dtype=float32),\n",
       " 'patient10713/study5/view1_frontal.jpg': array([ 99.20981, 152.22511, 262.0742 , 242.66   ], dtype=float32),\n",
       " 'patient30231/study4/view1_frontal.jpg': array([134.24   , 195.42052, 221.29088, 254.93513], dtype=float32),\n",
       " 'patient07399/study1/view1_frontal.jpg': array([107.3904 , 166.37247, 213.05952, 223.92842], dtype=float32),\n",
       " 'patient14768/study1/view1_frontal.jpg': array([152.2791 , 206.56544, 272.33435, 255.11713], dtype=float32),\n",
       " 'patient25308/study1/view1_frontal.jpg': array([114.09648, 189.79295, 261.95856, 263.06207], dtype=float32),\n",
       " 'patient31890/study12/view1_frontal.jpg': array([116.527435, 179.19984 , 301.0241  , 278.51025 ], dtype=float32),\n",
       " 'patient22482/study3/view1_frontal.jpg': array([150.0723 , 172.57936, 261.29996, 224.66225], dtype=float32),\n",
       " 'patient02506/study2/view1_frontal.jpg': array([131.7648 , 175.9592 , 217.69824, 222.19952], dtype=float32),\n",
       " 'patient20617/study3/view1_frontal.jpg': array([128.66208, 176.99329, 264.60703, 244.52415], dtype=float32),\n",
       " 'patient08555/study1/view1_frontal.jpg': array([161.01384, 167.72432, 270.03445, 230.84145], dtype=float32),\n",
       " 'patient22949/study1/view1_frontal.jpg': array([135.50676, 152.71729, 287.3414 , 244.52432], dtype=float32),\n",
       " 'patient00881/study1/view1_frontal.jpg': array([140.7672 , 192.73648, 246.34256, 249.2072 ], dtype=float32),\n",
       " 'patient00987/study2/view1_frontal.jpg': array([122.214676, 168.184   , 259.29913 , 245.52415 ], dtype=float32),\n",
       " 'patient32351/study1/view1_frontal.jpg': array([159.2483 , 197.73792, 271.3585 , 244.08289], dtype=float32),\n",
       " 'patient20162/study5/view1_frontal.jpg': array([111.00688, 154.04144, 225.7656 , 226.42767], dtype=float32),\n",
       " 'patient32404/study1/view1_frontal.jpg': array([109.24128, 173.46208, 252.6896 , 243.64128], dtype=float32),\n",
       " 'patient12188/study1/view1_frontal.jpg': array([131.8456 , 202.44427, 241.3352 , 265.90356], dtype=float32),\n",
       " 'patient09617/study3/view1_frontal.jpg': array([110.89504, 119.48848, 246.34271, 186.59856], dtype=float32),\n",
       " 'patient12233/study1/view1_frontal.jpg': array([100.25568, 166.54736, 261.4832 , 242.25072], dtype=float32),\n",
       " 'patient26845/study1/view1_frontal.jpg': array([122.04128, 167.72417, 280.93793, 264.8275 ], dtype=float32),\n",
       " 'patient23710/study5/view1_frontal.jpg': array([113.6552 , 159.33792, 234.59312, 232.16544], dtype=float32),\n",
       " 'patient15182/study1/view1_frontal.jpg': array([119.21373, 181.40688, 272.3723 , 262.62064], dtype=float32),\n",
       " 'patient22730/study6/view1_frontal.jpg': array([118.79294, 144.77232, 280.3379 , 245.40688], dtype=float32),\n",
       " 'patient15009/study11/view1_frontal.jpg': array([126.89648, 192.44128, 230.17937, 237.02048], dtype=float32),\n",
       " 'patient33677/study1/view1_frontal.jpg': array([143.80002, 202.15169, 267.38635, 271.0067 ], dtype=float32),\n",
       " 'patient15452/study2/view1_frontal.jpg': array([134.97256, 188.02753, 307.99335, 272.7725 ], dtype=float32),\n",
       " 'patient26120/study3/view1_frontal.jpg': array([ 84.9656 , 149.18623, 263.2827 , 267.03455], dtype=float32),\n",
       " 'patient26014/study1/view1_frontal.jpg': array([169.8413 , 153.59984, 293.8687 , 224.66193], dtype=float32),\n",
       " 'patient29775/study1/view1_frontal.jpg': array([142.24492, 154.92416, 276.8656 , 226.42752], dtype=float32),\n",
       " 'patient08771/study1/view1_frontal.jpg': array([135.24817, 190.67584, 260.15854, 254.67584], dtype=float32),\n",
       " 'patient20253/study8/view1_frontal.jpg': array([107.03456, 176.11024, 264.60703, 253.79312], dtype=float32),\n",
       " 'patient21789/study3/view1_frontal.jpg': array([ 96.     , 183.61375, 244.30336, 270.56543], dtype=float32),\n",
       " 'patient04499/study1/view1_frontal.jpg': array([114.795525, 170.63953 , 311.62424 , 254.93616 ], dtype=float32),\n",
       " 'patient23864/study2/view1_frontal.jpg': array([145.30193, 169.94472, 252.78064, 215.87575], dtype=float32),\n",
       " 'patient24320/study2/view1_frontal.jpg': array([157.57573, 224.66193, 272.7757 , 272.7723 ], dtype=float32),\n",
       " 'patient31912/study1/view1_frontal.jpg': array([142.34496, 170.37231, 249.6    , 223.77936], dtype=float32),\n",
       " 'patient30268/study1/view1_frontal.jpg': array([138.74768, 181.53111, 229.07056, 229.79187], dtype=float32),\n",
       " 'patient27667/study1/view1_frontal.jpg': array([171.60703, 174.34464, 312.40717, 220.6896 ], dtype=float32),\n",
       " 'patient25828/study4/view1_frontal.jpg': array([136.06537, 202.59296, 272.89313, 269.24127], dtype=float32),\n",
       " 'patient10738/study3/view1_frontal.jpg': array([131.75168, 181.84816, 232.82751, 236.13776], dtype=float32),\n",
       " 'patient23581/study2/view1_frontal.jpg': array([115.42064, 194.20688, 222.2344 , 246.28976], dtype=float32),\n",
       " 'patient13529/study1/view1_frontal.jpg': array([141.90352, 192.44128, 234.59312, 239.6688 ], dtype=float32),\n",
       " 'patient29392/study4/view1_frontal.jpg': array([135.50694, 185.82048, 238.78967, 232.16544], dtype=float32),\n",
       " 'patient16341/study1/view1_frontal.jpg': array([ 95.11712, 152.27583, 255.33792, 236.5792 ], dtype=float32),\n",
       " 'patient01544/study1/view1_frontal.jpg': array([121.5344 , 175.1408 , 224.24544, 250.43488], dtype=float32),\n",
       " 'patient15113/study3/view1_frontal.jpg': array([110.34816, 135.50352, 273.217  , 284.68976], dtype=float32),\n",
       " 'patient09340/study3/view1_frontal.jpg': array([145.21736, 194.64832, 269.68622, 265.26913], dtype=float32),\n",
       " 'patient04098/study4/view1_frontal.jpg': array([137.0331 , 190.6904 , 261.4322 , 265.16623], dtype=float32),\n",
       " 'patient02130/study1/view1_frontal.jpg': array([136.76607, 152.22511, 254.61768, 234.47568], dtype=float32),\n",
       " 'patient04837/study1/view1_frontal.jpg': array([109.3875 , 217.69807, 306.62518, 298.72113], dtype=float32),\n",
       " 'patient20500/study2/view1_frontal.jpg': array([138.59659, 215.39296, 270.56906, 265.2688 ], dtype=float32),\n",
       " 'patient12663/study3/view1_frontal.jpg': array([112.33088, 164.19296, 246.95168, 239.6688 ], dtype=float32),\n",
       " 'patient33346/study5/view1_frontal.jpg': array([163.66232, 190.67584, 262.08975, 232.60672], dtype=float32),\n",
       " 'patient23611/study1/view1_frontal.jpg': array([146.31744, 156.6896 , 227.97247, 216.71712], dtype=float32),\n",
       " 'patient03665/study3/view1_frontal.jpg': array([107.70469, 167.77489, 256.24707, 234.88496], dtype=float32),\n",
       " 'patient09150/study2/view1_frontal.jpg': array([158.36536, 168.60672, 268.26892, 223.7792 ], dtype=float32),\n",
       " 'patient22829/study3/view1_frontal.jpg': array([132.19312, 163.75168, 261.95856, 249.3792 ], dtype=float32),\n",
       " 'patient16821/study1/view1_frontal.jpg': array([126.79667, 178.31728, 277.30692, 244.08272], dtype=float32),\n",
       " 'patient04097/study1/view1_frontal.jpg': array([128.4912 , 164.09216, 223.83649, 224.65472], dtype=float32),\n",
       " 'patient00876/study1/view1_frontal.jpg': array([116.21488, 163.27344, 240.61392, 214.42448], dtype=float32),\n",
       " 'patient10864/study9/view1_frontal.jpg': array([140.48859, 146.90527, 285.34796, 226.29152], dtype=float32),\n",
       " 'patient12397/study1/view1_frontal.jpg': array([168.51724, 174.34496, 296.95868, 244.52415], dtype=float32),\n",
       " 'patient32524/study1/view1_frontal.jpg': array([174.25513, 198.17937, 282.83423, 261.73807], dtype=float32),\n",
       " 'patient11553/study1/view1_frontal.jpg': array([143.3518 , 198.87473, 330.35956, 277.85168], dtype=float32),\n",
       " 'patient14064/study1/view1_frontal.jpg': array([116.52762, 180.9656 , 263.06564, 273.6552 ], dtype=float32),\n",
       " 'patient21082/study5/view1_frontal.jpg': array([108.14154, 148.7448 , 300.14145, 252.91023], dtype=float32),\n",
       " 'patient11989/study2/view1_frontal.jpg': array([ 95.60352, 168.09975, 271.64832, 284.76584], dtype=float32),\n",
       " 'patient03595/study1/view1_frontal.jpg': array([134.5767 , 210.33247, 319.53833, 285.62656], dtype=float32),\n",
       " 'patient01134/study1/view1_frontal.jpg': array([143.16997, 157.13568, 276.16235, 213.19711], dtype=float32),\n",
       " 'patient14709/study1/view1_frontal.jpg': array([147.64143, 179.2    , 223.55856, 226.86913], dtype=float32),\n",
       " 'patient29763/study12/view1_frontal.jpg': array([121.82406, 146.09648, 289.10687, 238.78609], dtype=float32),\n",
       " 'patient10287/study1/view1_frontal.jpg': array([123.53177, 162.4552 , 279.84903, 242.65968], dtype=float32),\n",
       " 'patient19503/study1/view1_frontal.jpg': array([163.66214, 154.04128, 267.82764, 211.42049], dtype=float32),\n",
       " 'patient21071/study2/view1_frontal.jpg': array([129.77582, 189.79312, 234.38274, 227.31024], dtype=float32),\n",
       " 'patient10739/study1/view1_frontal.jpg': array([137.0689 , 177.876  , 255.35854, 223.33807], dtype=float32),\n",
       " 'patient14817/study1/view1_frontal.jpg': array([141.46208, 173.0208 , 227.0896 , 222.89664], dtype=float32),\n",
       " 'patient32209/study3/view2_frontal.jpg': array([165.57579, 210.09663, 281.6587 , 263.94495], dtype=float32),\n",
       " 'patient13081/study1/view1_frontal.jpg': array([166.31042, 180.08272, 285.48273, 232.1656 ], dtype=float32),\n",
       " 'patient01094/study11/view1_frontal.jpg': array([144.03581, 189.0536 , 261.88748, 236.11247], dtype=float32),\n",
       " 'patient31010/study3/view1_frontal.jpg': array([110.70064, 179.8758 , 234.6152 , 221.62471], dtype=float32),\n",
       " 'patient01167/study48/view1_frontal.jpg': array([110.93973, 168.59328, 261.93732, 263.93857], dtype=float32),\n",
       " 'patient31459/study1/view1_frontal.jpg': array([176.02065, 182.2896 , 277.97913, 232.16544], dtype=float32),\n",
       " 'patient21850/study1/view1_frontal.jpg': array([102.6208 , 171.69632, 234.59328, 244.96544], dtype=float32)}"
      ]
     },
     "execution_count": 17,
     "metadata": {},
     "output_type": "execute_result"
    }
   ],
   "source": [
    "ground_truth"
   ]
  },
  {
   "cell_type": "code",
   "execution_count": 18,
   "id": "251dcb8a",
   "metadata": {},
   "outputs": [
    {
     "name": "stderr",
     "output_type": "stream",
     "text": [
      "100%|█████████████████████████████████████████████████████████████████████████████| 9547/9547 [00:23<00:00, 401.02it/s]\n"
     ]
    }
   ],
   "source": [
    "import cv2\n",
    "import torch\n",
    "import os\n",
    "import cv2\n",
    "import torch\n",
    "import torchvision.transforms as T\n",
    "from PIL import Image\n",
    "from models.fastrcnn import get_model\n",
    "\n",
    "def get_transform(train):\n",
    "    transforms = []\n",
    "    transforms.append(T.ToTensor())\n",
    "    return T.Compose(transforms)\n",
    "\n",
    "def evaluate_image(model, path,device):\n",
    "    img_loaded = cv2.imread(path, cv2.IMREAD_COLOR)\n",
    "    img_loaded = get_transform(train=False)(img_loaded)\n",
    "    model.eval()\n",
    "    with torch.no_grad():\n",
    "        prediction = model([img_loaded.to(device)])\n",
    "        return img_loaded,prediction[0]\n",
    "\n",
    "device = torch.device('cuda') if torch.cuda.is_available() else torch.device('cpu')\n",
    "\n",
    "# our dataset has two classes only - background and person\n",
    "num_classes = 2\n",
    "\n",
    "# get the model using our helper function\n",
    "model = get_model(num_classes)\n",
    "# move model to the right device\n",
    "model.to(device)\n",
    "\n",
    "name = 'modelAFTERPRETRAINING4'\n",
    "model_params = torch.load(f'./intermediate/heart_weights/{name}.pth')\n",
    "model.load_state_dict(model_params)\n",
    "\n",
    "import os\n",
    "from tqdm import tqdm\n",
    "import pickle\n",
    "\n",
    "CHEXPERT_VALIDATION_BASE = './data/chexpert-cardio-nofinding'\n",
    "\n",
    "paths = os.listdir(CHEXPERT_VALIDATION_BASE)\n",
    "\n",
    "predictions = {}\n",
    "for p in tqdm(paths):\n",
    "    if p.replace('_','/',2) in ground_truth:\n",
    "        prediction = evaluate_image(model, CHEXPERT_VALIDATION_BASE+'/'+p,device)\n",
    "        if len(prediction[1]['boxes']) > 0:\n",
    "            predictions[p.replace('_','/',2)] = ((prediction[1]['boxes'])[0],prediction[0].shape)\n",
    "    #predictions.append(prediction)"
   ]
  },
  {
   "cell_type": "code",
   "execution_count": 19,
   "id": "fb7fd1cd",
   "metadata": {},
   "outputs": [
    {
     "data": {
      "text/plain": [
       "(tensor([137.5397, 206.4979, 311.0989, 282.6140], device='cuda:0'),\n",
       " torch.Size([3, 320, 369]))"
      ]
     },
     "execution_count": 19,
     "metadata": {},
     "output_type": "execute_result"
    }
   ],
   "source": [
    "predictions[list(predictions)[10]]"
   ]
  },
  {
   "cell_type": "code",
   "execution_count": 20,
   "id": "c767ee12",
   "metadata": {},
   "outputs": [
    {
     "name": "stdout",
     "output_type": "stream",
     "text": [
      "Err 0.0037703037261963 80.33087 79.124374\n",
      "Err 0.002537094157562647 111.66901 112.605194\n",
      "Err 0.02144966125488279 109.0208 102.156906\n",
      "Err 0.00253124237060548 108.57919 107.769196\n",
      "Err 0.06986450026240049 182.73097 157.50989\n",
      "Err 0.04484913730362888 115.6413 132.19063\n",
      "Err 0.013940382003784224 126.23456 121.773636\n",
      "Err 0.030863666534423795 92.248314 102.12469\n",
      "Err 0.03247625177556818 114.57805 102.78917\n",
      "Err 0.016314983367919922 145.22496 140.00417\n",
      "Err 0.0134138584136963 105.4896 109.782036\n",
      "Err 0.03893027305603031 95.779205 108.23689\n",
      "Err 0.019282477981029778 94.89647 102.0117\n",
      "Err 0.01300162952032119 107.69641 112.39\n",
      "Err 0.002779817581176791 136.09663 135.20709\n",
      "Err 0.0054967403411865234 95.779205 94.02025\n",
      "Err 0.0008952617645263672 100.130554 100.41704\n",
      "Err 0.0050895643530425305 162.86438 164.50322\n",
      "Err 0.001586341857910123 87.05087 86.54324\n",
      "Err 0.00012869834899903454 105.66912 105.62794\n",
      "Err 0.009585993076727639 120.05525 116.51802\n",
      "Err 0.001703023910522461 147.86208 148.40704\n",
      "Err 0.008357433122671065 184.49667 181.41278\n",
      "Err 0.004948065532901447 111.22766 113.0535\n",
      "Err 0.02550640106201174 85.93344 77.77139\n",
      "Err 0.0005816459655761386 135.94495 136.13107\n",
      "Err 0.00042466383713946065 109.020615 108.854996\n",
      "Err 0.0042585667555894435 151.83464 150.26323\n",
      "Err 0.013719129562377919 105.57536 101.18524\n",
      "Err 0.015247528811535238 137.08446 132.02228\n",
      "Err 0.0028250669821714425 112.11018 111.00841\n",
      "Err 0.02520086765289309 114.75871 122.82299\n",
      "Err 0.014693355560302712 143.44833 138.74646\n",
      "Err 0.009408235549926758 109.48961 106.47897\n",
      "Err 0.020884227752685558 135.44766 128.76471\n",
      "Err 0.0037620544433594194 161.22751 160.02365\n",
      "Err 0.01437349319458009 158.89664 154.29712\n",
      "Err 0.010967946052551303 120.93793 117.428185\n",
      "Err 0.08355547433876132 153.15858 125.41817\n",
      "Err 0.01028471250791807 161.54495 157.73961\n",
      "Err 0.015050244331359874 103.28289 98.46681\n",
      "Err 0.02111706855969553 123.586334 131.82199\n",
      "Err 0.013991409693008772 173.02078 167.56413\n",
      "Err 0.016544437408447243 178.31711 183.61133\n",
      "Err 0.013239112267127429 124.02742 118.86417\n",
      "Err 0.008020529528512454 134.62068 131.64507\n",
      "Err 0.02746466028760053 124.91037 134.30328\n",
      "Err 0.012477731704711947 157.57246 153.57959\n",
      "Err 0.011674928665161122 148.30336 144.56738\n",
      "Err 0.028033486390725226 196.8287 185.89565\n",
      "Err 0.04536724090576172 107.478714 121.99623\n",
      "Err 0.00864255331396091 115.19997 118.38907\n",
      "Err 0.008019113540649436 107.25505 109.82117\n",
      "Err 0.005766344070434581 90.322876 88.477646\n",
      "Err 0.05199416723006811 140.80014 161.07787\n",
      "Err 0.0010808651659366397 136.82776 137.22876\n",
      "Err 0.0025105953216552623 101.075836 100.272446\n",
      "Err 0.017574334144592307 106.81377 112.43755\n",
      "Err 0.0012665271759033092 92.689606 93.094894\n",
      "Err 0.014481790020536955 103.28273 108.62651\n",
      "Err 0.010181379318237316 160.2208 156.96275\n",
      "Err 0.0167733192443848 102.71104 97.343575\n",
      "Err 0.010847551712821812 162.86885 166.8716\n",
      "Err 0.08142615010744836 124.46886 154.5151\n",
      "Err 0.025752978854709174 124.39909 115.12802\n",
      "Err 0.005042768341729953 117.85161 116.23288\n",
      "Err 0.0396501073297465 197.23769 182.5275\n",
      "Err 0.001809799897315334 131.97247 131.30466\n",
      "Err 0.0010292530059814453 134.62079 134.95015\n",
      "Err 0.006979135366586509 98.42743 95.70557\n",
      "Err 0.001016712188720681 81.65503 81.98038\n",
      "Err 0.019001953125000026 148.54239 141.41666\n",
      "Err 0.01260951115534853 109.903564 104.985855\n",
      "Err 0.012255716323852583 129.76544 125.84361\n",
      "Err 0.06372296520963194 150.51025 174.15147\n",
      "Err 0.01250004768371582 95.34529 91.345276\n",
      "Err 0.013055253028869673 124.39904 120.22136\n",
      "Err 0.008265331963807854 144.85938 147.85143\n",
      "Err 0.035068570650540865 128.44144 142.11818\n",
      "Err 0.01582974164913864 108.5791 114.7527\n",
      "Err 0.050896451800981235 187.00775 168.12517\n",
      "Err 0.0010619951780572179 146.53802 146.14615\n",
      "Err 0.03723433993373132 191.99991 178.26044\n",
      "Err 0.04892983436584475 176.0448 160.38725\n",
      "Err 0.030900991382960652 184.96162 173.55916\n",
      "Err 0.027830583939384312 132.99239 143.26187\n",
      "Err 0.011249828338623036 75.91713 79.517075\n",
      "Err 0.05483810300749492 167.2828 147.04755\n",
      "Err 0.050865708735951254 156.31726 138.92119\n",
      "Err 0.0027649708283253305 104.1655 103.08716\n",
      "Err 0.007412620701972683 104.60692 102.09404\n",
      "Err 0.005999602419038019 118.28964 116.141785\n",
      "Err 0.01427597999572755 85.62752 90.19583\n",
      "Err 0.04341676390016236 116.0829 132.79836\n",
      "Err 0.001014083471053695 119.1723 119.567795\n",
      "Err 0.024594939156864448 117.85167 126.60747\n",
      "Err 0.048341941833496105 123.914566 139.38399\n",
      "Err 0.04899395282451924 150.99759 135.07455\n",
      "Err 0.004244682116386234 101.95848 103.61391\n",
      "Err 0.004024696350097667 131.97247 130.68457\n"
     ]
    }
   ],
   "source": [
    "errors = []\n",
    "for p in ground_truth:\n",
    "    \n",
    "    if p in predictions:\n",
    "        pred = predictions[p]\n",
    "    else:\n",
    "        print('None')\n",
    "    truth = ground_truth[p]\n",
    "    x0,_,x1,_ = truth\n",
    "    x2,_,x3,_= pred[0].cpu().numpy()\n",
    "    width = pred[1][2]\n",
    "    error =abs(((x3-x2)/ width - (x1-x0)/width))\n",
    "    errors.append(error)\n",
    "    \n",
    "    #print('Err',error, x1-x0,x3-x2)\n",
    "    \n",
    "errors = np.array(errors)"
   ]
  },
  {
   "cell_type": "code",
   "execution_count": 21,
   "id": "8db26a45",
   "metadata": {},
   "outputs": [
    {
     "data": {
      "text/plain": [
       "100"
      ]
     },
     "execution_count": 21,
     "metadata": {},
     "output_type": "execute_result"
    }
   ],
   "source": [
    "len(errors)"
   ]
  },
  {
   "cell_type": "code",
   "execution_count": 22,
   "id": "3edf2562",
   "metadata": {},
   "outputs": [
    {
     "name": "stdout",
     "output_type": "stream",
     "text": [
      "RMSE: 0.02614550042426097\n",
      "Min: 0.00012869834899903454\n",
      "Max: 0.08355547433876132\n",
      "Mean: 0.01855517227811203\n",
      "Median: 0.013028441274595431\n",
      "STD: 0.01841990157858106\n"
     ]
    }
   ],
   "source": [
    "print('RMSE:', np.sqrt((errors ** 2).sum()/len(errors)))\n",
    "print('Min:', errors.min())\n",
    "print('Max:', errors.max())\n",
    "print('Mean:', errors.mean())\n",
    "print('Median:', np.median(errors))\n",
    "print('STD:', errors.std())"
   ]
  },
  {
   "cell_type": "code",
   "execution_count": 23,
   "id": "b63e243f",
   "metadata": {},
   "outputs": [
    {
     "data": {
      "text/plain": [
       "<matplotlib.image.AxesImage at 0x2078198f1c0>"
      ]
     },
     "execution_count": 23,
     "metadata": {},
     "output_type": "execute_result"
    },
    {
     "data": {
      "image/png": "[encoded data removed]",
      "text/plain": [
       "<Figure size 432x288 with 1 Axes>"
      ]
     },
     "metadata": {
      "needs_background": "light"
     },
     "output_type": "display_data"
    }
   ],
   "source": [
    "from matplotlib.pyplot import imshow\n",
    "imshow(ds_train[9][0].permute(1,2,0))"
   ]
  },
  {
   "cell_type": "code",
   "execution_count": null,
   "id": "8e699b18",
   "metadata": {},
   "outputs": [],
   "source": []
  }
 ],
 "metadata": {
  "kernelspec": {
   "display_name": "cs230-project",
   "language": "python",
   "name": "cs230-project"
  },
  "language_info": {
   "codemirror_mode": {
    "name": "ipython",
    "version": 3
   },
   "file_extension": ".py",
   "mimetype": "text/x-python",
   "name": "python",
   "nbconvert_exporter": "python",
   "pygments_lexer": "ipython3",
   "version": "3.8.8"
  }
 },
 "nbformat": 4,
 "nbformat_minor": 5
}
