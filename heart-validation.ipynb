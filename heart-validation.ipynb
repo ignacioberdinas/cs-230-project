{
 "cells": [
  {
   "cell_type": "code",
   "execution_count": null,
   "id": "69dc8a33",
   "metadata": {},
   "outputs": [],
   "source": [
    "import pandas as pd\n",
    "from torch.utils.data import DataLoader, Dataset\n",
    "import os\n",
    "import cv2\n",
    "import numpy as np\n",
    "import torch\n",
    "from torch.utils.data import DataLoader, Dataset\n",
    "from PIL import Image\n",
    "import torchvision\n",
    "from torchvision.models.detection.faster_rcnn import FastRCNNPredictor\n",
    "\n",
    "from datasets.heartdatasets import VinBigDataHeartDataset\n",
    "\n",
    "import torchvision.transforms as T\n",
    "from models.fastrcnn import get_model"
   ]
  },
  {
   "cell_type": "code",
   "execution_count": null,
   "id": "797ee21f",
   "metadata": {},
   "outputs": [],
   "source": [
    "def get_transform(train):\n",
    "    transforms = []\n",
    "    transforms.append(T.ToTensor())\n",
    "    return T.Compose(transforms)"
   ]
  },
  {
   "cell_type": "code",
   "execution_count": null,
   "id": "6cdc0071",
   "metadata": {},
   "outputs": [],
   "source": [
    "def get_vinbigdata_dataframe(path):\n",
    "    IMG_SIZE = 512\n",
    "    df = pd.read_csv(path)\n",
    "    df['x_min'] = IMG_SIZE * df['x_min'] / df['width']\n",
    "    df['x_max'] = IMG_SIZE * df['x_max'] / df['width']\n",
    "    df['y_min'] = IMG_SIZE * df['y_min'] / df['height']\n",
    "    df['y_max'] = IMG_SIZE * df['y_max'] / df['height']\n",
    "    df = df[df.class_name.eq('Cardiomegaly')]\n",
    "    return df"
   ]
  },
  {
   "cell_type": "code",
   "execution_count": null,
   "id": "2dae49a4",
   "metadata": {},
   "outputs": [],
   "source": [
    "from sklearn.model_selection import train_test_split\n",
    "\n",
    "df = get_vinbigdata_dataframe('./data/vinbigdata/train.csv')\n",
    "df_train, df_test = train_test_split(df, test_size=0.33, random_state=42)\n",
    "\n",
    "#TODO: Check bug with data augmentation\n",
    "ds_train = VinBigDataHeartDataset(df, './data/vinbigdata/train/', get_transform(train=False))\n",
    "ds_test = VinBigDataHeartDataset(df, './data/vinbigdata/train/', get_transform(train=False))"
   ]
  },
  {
   "cell_type": "code",
   "execution_count": null,
   "id": "3955a143",
   "metadata": {},
   "outputs": [],
   "source": [
    "ds_train[0]"
   ]
  },
  {
   "cell_type": "code",
   "execution_count": null,
   "id": "e9b35376",
   "metadata": {},
   "outputs": [],
   "source": [
    "ds_train[0][0].shape"
   ]
  },
  {
   "cell_type": "code",
   "execution_count": null,
   "id": "ae8c6d8c",
   "metadata": {},
   "outputs": [],
   "source": [
    "from datasets.heartdatasets import CheXpertHeartDataset\n",
    "import torch"
   ]
  },
  {
   "cell_type": "code",
   "execution_count": null,
   "id": "3c66b6dc",
   "metadata": {},
   "outputs": [],
   "source": [
    "ds_train_no_finding = CheXpertHeartDataset('./data/hand-label/nofinding/','../CheXpert-v1.0-small/train' ,get_transform(train=False), test= True)\n",
    "ds_train_cardiomegaly = CheXpertHeartDataset('./data/hand-label/cardiomegaly-certain/','../CheXpert-v1.0-small/train' ,get_transform(train=False), test= True)\n",
    "\n",
    "ds_train_chexpert = torch.utils.data.ConcatDataset([ds_train_no_finding, ds_train_cardiomegaly])\n",
    "print(len(ds_train_no_finding), len(ds_train_cardiomegaly), len(ds_train_chexpert))\n",
    "train_ds_chexpert,val_ds_chexpert = torch.utils.data.random_split(ds_train_chexpert, [len(ds_train_chexpert) - 100, 100], generator=torch.Generator().manual_seed(42))\n",
    "\n"
   ]
  },
  {
   "cell_type": "code",
   "execution_count": null,
   "id": "90af94f3",
   "metadata": {},
   "outputs": [],
   "source": [
    "labeled = [x[1]['extra'].replace('/','_',2) for x in ds_train_cardiomegaly]\n",
    "for idx,i in enumerate(os.listdir('../chexpert-validation/cardiomegaly')):\n",
    "    if i not in labeled:\n",
    "        print(idx,i)\n",
    "\n",
    "print(len(os.listdir('../chexpert-validation/cardiomegaly')))\n",
    "print(len(labeled))"
   ]
  },
  {
   "cell_type": "code",
   "execution_count": null,
   "id": "15b3cd14",
   "metadata": {},
   "outputs": [],
   "source": [
    "labeled = [x[1]['extra'].replace('/','_',2) for x in ds_train_no_finding ]\n",
    "for idx,i in enumerate(os.listdir('../chexpert-validation/nofinding')):\n",
    "    if i not in labeled:\n",
    "        print(idx,i)\n",
    "\n",
    "print(len(os.listdir('../chexpert-validation/nofinding')))\n",
    "print(len(labeled))"
   ]
  },
  {
   "cell_type": "code",
   "execution_count": null,
   "id": "91909a29",
   "metadata": {},
   "outputs": [],
   "source": [
    "print(labeled)"
   ]
  },
  {
   "cell_type": "code",
   "execution_count": null,
   "id": "ca4318bd",
   "metadata": {},
   "outputs": [],
   "source": [
    "for i in range(10):\n",
    "    #print(ds_train_chexpert[i][1]['extra'])\n",
    "    print(val_ds_chexpert[i][1]['extra'])"
   ]
  },
  {
   "cell_type": "code",
   "execution_count": null,
   "id": "e0eb6a53",
   "metadata": {},
   "outputs": [],
   "source": []
  },
  {
   "cell_type": "code",
   "execution_count": null,
   "id": "e0c62e49",
   "metadata": {},
   "outputs": [],
   "source": [
    "len(val_ds_chexpert)"
   ]
  },
  {
   "cell_type": "code",
   "execution_count": null,
   "id": "4fe096bd",
   "metadata": {},
   "outputs": [],
   "source": [
    "ds_train_chexpert[9]"
   ]
  },
  {
   "cell_type": "code",
   "execution_count": null,
   "id": "e52164f7",
   "metadata": {},
   "outputs": [],
   "source": [
    "from matplotlib.pyplot import imshow\n",
    "import matplotlib.pyplot as plt\n",
    "import numpy as np\n",
    "from PIL import Image\n",
    "from matplotlib.pyplot import figure\n",
    "import cv2\n",
    "\n",
    "x0,y0,x1,y1 = ds_train_chexpert[10][1]['boxes'].cpu().numpy()[0].astype(int)\n",
    "img = ds_train_chexpert[10][0].permute(1,2,0).cpu().numpy()\n",
    "\n",
    "print(img.shape)\n",
    "print(x0,y0,x1,y1)\n",
    "im = cv2.rectangle(img.copy(), (x0,y0) , (x1,y1), (0,0,255), 4)\n",
    "imshow(im)"
   ]
  },
  {
   "cell_type": "code",
   "execution_count": null,
   "id": "8d1071a9",
   "metadata": {},
   "outputs": [],
   "source": [
    "print(len(val_ds_chexpert))\n",
    "\n",
    "ground_truth = {}\n",
    "for idx in range(len(val_ds_chexpert)):\n",
    "    image, data = val_ds_chexpert[idx]\n",
    "    if 'boxes' in data:\n",
    "        ground_truth[data['extra']] =  data['boxes'][0].cpu().numpy()\n",
    "        #x0,y0,x1,y1\n",
    "    #print(x0,y0,x1,y1)"
   ]
  },
  {
   "cell_type": "code",
   "execution_count": null,
   "id": "691d675b",
   "metadata": {},
   "outputs": [],
   "source": [
    "ground_truth"
   ]
  },
  {
   "cell_type": "code",
   "execution_count": null,
   "id": "251dcb8a",
   "metadata": {},
   "outputs": [],
   "source": [
    "import cv2\n",
    "import torch\n",
    "import os\n",
    "import cv2\n",
    "import torch\n",
    "import torchvision.transforms as T\n",
    "from PIL import Image\n",
    "from models.fastrcnn import get_model\n",
    "\n",
    "def get_transform(train):\n",
    "    transforms = []\n",
    "    transforms.append(T.ToTensor())\n",
    "    return T.Compose(transforms)\n",
    "\n",
    "def evaluate_image(model, path,device):\n",
    "    img_loaded = cv2.imread(path, cv2.IMREAD_COLOR)\n",
    "    img_loaded = get_transform(train=False)(img_loaded)\n",
    "    model.eval()\n",
    "    with torch.no_grad():\n",
    "        prediction = model([img_loaded.to(device)])\n",
    "        return img_loaded,prediction[0]\n",
    "\n",
    "device = torch.device('cuda') if torch.cuda.is_available() else torch.device('cpu')\n",
    "\n",
    "# our dataset has two classes only - background and person\n",
    "num_classes = 2\n",
    "\n",
    "# get the model using our helper function\n",
    "model = get_model(num_classes)\n",
    "# move model to the right device\n",
    "model.to(device)\n",
    "\n",
    "name = 'modelAFTERPRETRAINING4'\n",
    "model_params = torch.load(f'./intermediate/heart_weights/{name}.pth')\n",
    "model.load_state_dict(model_params)\n",
    "\n",
    "import os\n",
    "from tqdm import tqdm\n",
    "import pickle\n",
    "\n",
    "CHEXPERT_VALIDATION_BASE = './data/chexpert-cardio-nofinding'\n",
    "\n",
    "paths = os.listdir(CHEXPERT_VALIDATION_BASE)\n",
    "\n",
    "predictions = {}\n",
    "for p in tqdm(paths):\n",
    "    if p.replace('_','/',2) in ground_truth:\n",
    "        prediction = evaluate_image(model, CHEXPERT_VALIDATION_BASE+'/'+p,device)\n",
    "        if len(prediction[1]['boxes']) > 0:\n",
    "            predictions[p.replace('_','/',2)] = ((prediction[1]['boxes'])[0],prediction[0].shape)\n",
    "    #predictions.append(prediction)"
   ]
  },
  {
   "cell_type": "code",
   "execution_count": null,
   "id": "fb7fd1cd",
   "metadata": {},
   "outputs": [],
   "source": [
    "predictions[list(predictions)[10]]"
   ]
  },
  {
   "cell_type": "code",
   "execution_count": null,
   "id": "c767ee12",
   "metadata": {},
   "outputs": [],
   "source": [
    "errors = []\n",
    "for p in ground_truth:\n",
    "    \n",
    "    if p in predictions:\n",
    "        pred = predictions[p]\n",
    "    else:\n",
    "        print('None')\n",
    "    truth = ground_truth[p]\n",
    "    x0,_,x1,_ = truth\n",
    "    x2,_,x3,_= pred[0].cpu().numpy()\n",
    "    width = pred[1][2]\n",
    "    error =abs(((x3-x2)/ width - (x1-x0)/width))\n",
    "    errors.append(error)\n",
    "    \n",
    "    #print('Err',error, x1-x0,x3-x2)\n",
    "    \n",
    "errors = np.array(errors)"
   ]
  },
  {
   "cell_type": "code",
   "execution_count": null,
   "id": "8db26a45",
   "metadata": {},
   "outputs": [],
   "source": [
    "len(errors)"
   ]
  },
  {
   "cell_type": "code",
   "execution_count": null,
   "id": "3edf2562",
   "metadata": {},
   "outputs": [],
   "source": [
    "print('RMSE:', np.sqrt((errors ** 2).sum()/len(errors)))\n",
    "print('Min:', errors.min())\n",
    "print('Max:', errors.max())\n",
    "print('Mean:', errors.mean())\n",
    "print('Median:', np.median(errors))\n",
    "print('STD:', errors.std())"
   ]
  },
  {
   "cell_type": "code",
   "execution_count": null,
   "id": "b63e243f",
   "metadata": {},
   "outputs": [],
   "source": [
    "from matplotlib.pyplot import imshow\n",
    "imshow(ds_train[9][0].permute(1,2,0))"
   ]
  },
  {
   "cell_type": "code",
   "execution_count": null,
   "id": "8e699b18",
   "metadata": {},
   "outputs": [],
   "source": []
  }
 ],
 "metadata": {
  "kernelspec": {
   "display_name": "cs230-project",
   "language": "python",
   "name": "cs230-project"
  },
  "language_info": {
   "codemirror_mode": {
    "name": "ipython",
    "version": 3
   },
   "file_extension": ".py",
   "mimetype": "text/x-python",
   "name": "python",
   "nbconvert_exporter": "python",
   "pygments_lexer": "ipython3",
   "version": "3.8.8"
  }
 },
 "nbformat": 4,
 "nbformat_minor": 5
}
