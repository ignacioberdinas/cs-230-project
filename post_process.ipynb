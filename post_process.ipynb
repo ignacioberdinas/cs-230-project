{
 "cells": [
  {
   "cell_type": "code",
   "execution_count": null,
   "outputs": [],
   "source": [
    "CHEXPERT_TRAIN = 'C:/Users/ignacio/workspace/stanford/cs230/CheXpert-v1.0-small/train.csv'\n",
    "BASE_MASKS = 'C:/Users/ignacio/workspace/stanford/cs230/cs230-project/intermediate/out_lung_mask/'\n",
    "BASE_IMG = 'C:/Users/ignacio/workspace/stanford/cs230/cs230-project/data/chexpert-cardio-nofinding/'\n",
    "BASE_EXTRA = 'CheXpert-v1.0-small/train/'"
   ],
   "metadata": {
    "collapsed": false,
    "pycharm": {
     "name": "#%%\n"
    }
   }
  },
  {
   "cell_type": "code",
   "execution_count": 107,
   "id": "e3d7d49b",
   "metadata": {},
   "outputs": [],
   "source": [
    "#Find Min skipping 0\n",
    "def find_min(arr):\n",
    "    min_val = 1000\n",
    "    for idx, value in enumerate(arr):\n",
    "        if value < min_val and value != 0:\n",
    "            min_val = value\n",
    "    return min_val\n",
    "\n",
    "def find_chest_width(path):\n",
    "    img = cv2.imread(path)\n",
    "    start = np.argmax(img[:,:,0],axis=1)\n",
    "    end = np.argmax(img[:,::-1,0],axis=1)\n",
    "    h,w,c = img.shape\n",
    "    return find_min(start), w - find_min(end), w\n",
    "\n",
    "def find_img(path):\n",
    "    img = cv2.imread(path)\n",
    "    return img.shape"
   ]
  },
  {
   "cell_type": "code",
   "execution_count": null,
   "id": "f436cd1b",
   "metadata": {},
   "outputs": [],
   "source": [
    "import pandas as pd\n",
    "\n",
    "df = pd.read_csv(BASE_CHEXPERT)\n",
    "df.head()"
   ]
  },
  {
   "cell_type": "code",
   "execution_count": 125,
   "id": "4c1c701a",
   "metadata": {},
   "outputs": [],
   "source": [
    "import pickle\n",
    "import cv2\n",
    "\n",
    "\n",
    "with open('../cs230-project/intermediate/out_heart.pickle', 'rb') as handle:\n",
    "     out_heart = pickle.load(handle)\n",
    "        \n",
    "with open('../cs230-project/intermediate/out_paths.pickle', 'rb') as handle:\n",
    "     out_paths = pickle.load(handle)"
   ]
  },
  {
   "cell_type": "code",
   "execution_count": 144,
   "id": "0c71b20b",
   "metadata": {},
   "outputs": [
    {
     "name": "stderr",
     "output_type": "stream",
     "text": [
      "100%|██████████████████████████████████████████████████████████████████████████████| 9547/9547 [02:16<00:00, 70.03it/s]\n"
     ]
    }
   ],
   "source": [
    "ctr_count_no = 0\n",
    "ctr_amount_no = 0\n",
    "\n",
    "ctr_count_un = 0\n",
    "ctr_amount_un = 0\n",
    "\n",
    "ctr_count = 0\n",
    "ctr_amount = 0\n",
    "\n",
    "ctr_healthy = []\n",
    "ctr_uncertain = []\n",
    "ctr_cardiomegaly = []\n",
    "from tqdm import tqdm\n",
    "for path, heart in tqdm(list(zip(out_paths,out_heart))):\n",
    "    \n",
    "    boxes = heart['boxes']\n",
    "    x0,y0,x1,y1 = boxes[0].cpu().numpy()\n",
    "    min_val,max_val,width = find_chest_width(BASE_MASKS + path)\n",
    "    \n",
    "    \n",
    "    h,w,c = find_img(BASE_IMG + path)\n",
    "    heart = (x1-x0)/w\n",
    "    chest = (max_val-min_val)/width\n",
    "    \n",
    "    row = df[df.Path.eq(BASE_EXTRA + path.replace('_','/',2))]\n",
    "   \n",
    "    #print(row['Cardiomegaly'].values[0])\n",
    "    #print(row['No Finding'].values[0])\n",
    "    \n",
    "    if row['No Finding'].values[0] == 1:\n",
    "        ctr_count_no += 1\n",
    "        ctr_amount_no += heart/chest\n",
    "        ctr_healthy.append(heart/chest)\n",
    "    elif row['Cardiomegaly'].values[0] == 1:\n",
    "        ctr_count += 1\n",
    "        ctr_amount += heart/chest\n",
    "        ctr_cardiomegaly.append(heart/chest)\n",
    "    else:\n",
    "        ctr_count_un += 1\n",
    "        ctr_amount_un += heart/chest\n",
    "        ctr_uncertain.append(heart/chest)\n",
    "    ctr =  heart/chest\n",
    "    "
   ]
  },
  {
   "cell_type": "code",
   "execution_count": 145,
   "id": "ea7bee05",
   "metadata": {},
   "outputs": [
    {
     "data": {
      "text/plain": [
       "(2829.7767699922097, 5499, 697.7203496657046, 1139, 1859.410622501327, 2909)"
      ]
     },
     "execution_count": 145,
     "metadata": {},
     "output_type": "execute_result"
    }
   ],
   "source": [
    "ctr_amount_no,ctr_count_no,ctr_amount_un,ctr_count_un,ctr_amount,ctr_count"
   ]
  },
  {
   "cell_type": "code",
   "execution_count": 146,
   "id": "d5b73e91",
   "metadata": {},
   "outputs": [
    {
     "data": {
      "text/plain": [
       "(0.5145984306223331, 0.6125727389514527, 0.6391923762465889)"
      ]
     },
     "execution_count": 146,
     "metadata": {},
     "output_type": "execute_result"
    }
   ],
   "source": [
    "ctr_amount_no/ctr_count_no,ctr_amount_un/ctr_count_un,ctr_amount/ctr_count"
   ]
  },
  {
   "cell_type": "code",
   "execution_count": 161,
   "id": "228fb0e6",
   "metadata": {},
   "outputs": [
    {
     "data": {
      "image/png": "[encoded data removed]",
      "text/plain": [
       "<Figure size 720x360 with 1 Axes>"
      ]
     },
     "metadata": {
      "needs_background": "light"
     },
     "output_type": "display_data"
    }
   ],
   "source": [
    "import matplotlib.pyplot as plt\n",
    "import numpy as np\n",
    "\n",
    "distributionA = np.random.normal(0.3, 0.1, 1000)\n",
    "distributionB = np.random.normal(0.5, 0.1, 1000)\n",
    "distributionC = np.random.normal(0.7, 0.1, 1000)\n",
    "\n",
    "labels = np.array(range(20))/20\n",
    "no_finding = np.histogram(ctr_healthy,bins=np.arange(21)/20)\n",
    "uncertain = np.histogram(ctr_uncertain,bins=np.arange(21)/20)\n",
    "cardiomegaly = np.histogram(ctr_cardiomegaly,bins=np.arange(21)/20)\n",
    "\n",
    "x = np.arange(len(labels)) *2 # the label locations\n",
    "width = 0.5# the width of the bars\n",
    "\n",
    "\n",
    "\n",
    "fig, ax = plt.subplots(figsize=(10,5))\n",
    "\n",
    "plt.axvline(x=np.average(ctr_healthy)*40, color='blue', linestyle='--')\n",
    "plt.axvline(x=np.average(ctr_uncertain)*40, color='orange', linestyle='--')\n",
    "plt.axvline(x=np.average(ctr_cardiomegaly)*40, color='green', linestyle='--')\n",
    "\n",
    "rects1 = ax.bar(x - width, no_finding[0], width, label='No Finding')\n",
    "rects2 = ax.bar(x, uncertain[0], width, label='Uncertain')\n",
    "rects3 = ax.bar(x + width, cardiomegaly[0] , width, label='Cardiomegaly')\n",
    "\n",
    "# Add some text for labels, title and custom x-axis tick labels, etc.\n",
    "ax.set_ylabel('Count')\n",
    "ax.set_xlabel('Predicted cardiothoracic ratio')\n",
    "ax.set_title('Predicted cardiothoracic ratio count grouped by ground-truth label')\n",
    "ax.set_xticks(x)\n",
    "ax.set_xticklabels(labels)\n",
    "ax.legend()\n",
    "fig.tight_layout()\n",
    "\n",
    "plt.show()\n"
   ]
  },
  {
   "cell_type": "code",
   "execution_count": 87,
   "id": "1200bccf",
   "metadata": {},
   "outputs": [
    {
     "data": {
      "image/png": "[encoded data removed]",
      "text/plain": [
       "<Figure size 432x288 with 1 Axes>"
      ]
     },
     "metadata": {
      "needs_background": "light"
     },
     "output_type": "display_data"
    },
    {
     "data": {
      "image/png": "[encoded data removed]",
      "text/plain": [
       "<Figure size 432x288 with 1 Axes>"
      ]
     },
     "metadata": {
      "needs_background": "light"
     },
     "output_type": "display_data"
    }
   ],
   "source": [
    "from matplotlib import pyplot as plt\n",
    "import cv2\n",
    "\n",
    "plt.imshow(img[:,:,0]*255)\n",
    "plt.title('my picture')\n",
    "plt.show()\n",
    "\n",
    "plt.imshow(img[:,::-1,0]*255)\n",
    "plt.title('my picture2')\n",
    "plt.show()"
   ]
  }
 ],
 "metadata": {
  "kernelspec": {
   "display_name": "cs230-pytorch-generative",
   "language": "python",
   "name": "cs230-pytorch-generative"
  },
  "language_info": {
   "codemirror_mode": {
    "name": "ipython",
    "version": 3
   },
   "file_extension": ".py",
   "mimetype": "text/x-python",
   "name": "python",
   "nbconvert_exporter": "python",
   "pygments_lexer": "ipython3",
   "version": "3.8.8"
  }
 },
 "nbformat": 4,
 "nbformat_minor": 5
}