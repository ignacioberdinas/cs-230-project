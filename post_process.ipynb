{
 "cells": [
  {
   "cell_type": "code",
   "execution_count": null,
   "id": "4a6b900b",
   "metadata": {},
   "outputs": [],
   "source": [
    "import pandas as pd\n",
    "import os\n",
    "import torch\n",
    "from torch.utils.data import DataLoader\n",
    "import albumentations as A\n",
    "\n",
    "from datasets.lungdatasets import SchenzenMontgomeryLungSegmentationDataset\n",
    "from datasets.lungdatasets import CheXpertLungSegmentationDataset\n",
    "from models.unet import ResNetUNet\n",
    "from utils.utils import bce_dice_loss, dice_metric\n",
    "import numpy as np\n",
    "from tqdm import tqdm\n",
    "import glob\n",
    "import cv2\n",
    "\n",
    "CHEXPERT_TRAIN = '../CheXpert-v1.0-small/train.csv'\n",
    "BASE_MASKS = './intermediate/out_lung_mask3/'\n",
    "BASE_IMG = './data/chexpert-cardio-nofinding/'\n",
    "BASE_EXTRA = 'CheXpert-v1.0-small/train/'\n",
    "\n",
    "def get_transforms(size, test = True):\n",
    "    #TODO: Do test-time augmentation?\n",
    "    if test:\n",
    "        return A.Compose([\n",
    "        A.Resize(height=size, width=size, p=1.0)\n",
    "        ])\n",
    "    return A.Compose([\n",
    "        A.Resize(height=size, width=size, p=1.0),\n",
    "        A.HorizontalFlip(p=0.5),\n",
    "        A.RandomRotate90(p=0.3),\n",
    "        A.Transpose(p=0.3),\n",
    "        A.ShiftScaleRotate(shift_limit=0.05, scale_limit=0.2, rotate_limit=45, p=0.3),\n",
    "    ])\n",
    "\n",
    "#Find Min skipping 0\n",
    "def find_min(arr):\n",
    "    min_val = 1000\n",
    "    for idx, value in enumerate(arr):\n",
    "        if value < min_val and value != 0:\n",
    "            min_val = value\n",
    "    return min_val\n",
    "\n",
    "def find_chest_width_image(img,post_process=True):\n",
    "    if post_process:\n",
    "        img = post_process_image(img)\n",
    "    start = np.argmax(img[:,:,1],axis=1)\n",
    "    end = np.argmax(img[:,::-1,1],axis=1)\n",
    "    h,w,c = img.shape\n",
    "    return find_min(start), w - find_min(end), w\n",
    "\n",
    "def find_chest_width(path,post_process=True):\n",
    "    img = cv2.imread(path)\n",
    "    if post_process:\n",
    "        img = post_process_image(img)\n",
    "    start = np.argmax(img[:,:,1],axis=1)\n",
    "    end = np.argmax(img[:,::-1,1],axis=1)\n",
    "    h,w,c = img.shape\n",
    "    return find_min(start), w - find_min(end), w\n",
    "\n",
    "def post_process_image(img,hull = True):\n",
    "    \n",
    "    dst = img[:,:,0]\n",
    "    \n",
    "    #kernel = np.ones((3, 3), np.uint8)\n",
    "    #dst = cv2.erode(dst, kernel,iterations= 3) \n",
    "\n",
    "    contours, hierarchy = cv2.findContours(dst, cv2.RETR_TREE, cv2.CHAIN_APPROX_SIMPLE)\n",
    "\n",
    "    #create an empty image for contours\n",
    "    img_contours = np.zeros(img.shape)\n",
    "    # draw the contours on the empty image\n",
    "    cs = [(c,cv2.contourArea(c)) for c in contours]\n",
    "    cs.sort(key=lambda x:x[1])\n",
    "    if hull:\n",
    "        hulls = [cv2.convexHull(p[0]) for p in cs[-2:]]\n",
    "        cv2.drawContours(img_contours, hulls, -1, (0,255,0), -1)\n",
    "    else:\n",
    "        contours2 = [p[0] for p in cs[-2:]]\n",
    "        cv2.drawContours(img_contours, contours2, -1, (0,255,0), -1)\n",
    "    return img_contours\n",
    "\n",
    "def find_img(path):\n",
    "    img = cv2.imread(path)\n",
    "    return img.shape\n",
    "\n",
    "import numpy as np\n",
    "import cv2\n",
    "from matplotlib.pyplot import imshow\n",
    "\n",
    "ds_train_no_finding = CheXpertLungSegmentationDataset(\"./data/hand-label/nofinding.json\", '../CheXpert-v1.0-small/train/'\n",
    "                                                      , aug_transform=get_transforms(320)\n",
    "                                                     , test = True)\n",
    "ds_train_cardiomegaly = CheXpertLungSegmentationDataset(\"./data/hand-label/cardiomegaly-certain.json\", '../CheXpert-v1.0-small/train/'\n",
    "                                                        , aug_transform=get_transforms(320)\n",
    "                                                       , test = True)\n",
    "\n",
    "full_ds_chexpert1 = torch.utils.data.ConcatDataset([ds_train_no_finding, ds_train_cardiomegaly])\n",
    "train_ds_chexpert1,val_ds_chexpert1 = torch.utils.data.random_split(full_ds_chexpert1, [len(full_ds_chexpert1) - 100, 100], generator=torch.Generator().manual_seed(42))\n",
    "sample = np.uint8(full_ds_chexpert1[0][1].cpu().numpy() * 255)"
   ]
  },
  {
   "cell_type": "code",
   "execution_count": null,
   "id": "693b0733",
   "metadata": {},
   "outputs": [],
   "source": [
    "ignore = [x[2] for x in val_ds_chexpert1]"
   ]
  },
  {
   "cell_type": "code",
   "execution_count": null,
   "id": "e3d7d49b",
   "metadata": {},
   "outputs": [],
   "source": [
    "#Find Min skipping 0\n",
    "def find_min(arr):\n",
    "    min_val = 1000\n",
    "    for idx, value in enumerate(arr):\n",
    "        if value < min_val and value != 0:\n",
    "            min_val = value\n",
    "    return min_val\n",
    "\n",
    "def find_chest_width(path,post_process=True):\n",
    "    img = cv2.imread(path)\n",
    "    if post_process:\n",
    "        img = post_process_image(img)\n",
    "    start = np.argmax(img[:,:,1],axis=1)\n",
    "    end = np.argmax(img[:,::-1,1],axis=1)\n",
    "    h,w,c = img.shape\n",
    "    return find_min(start), w - find_min(end), w\n",
    "\n",
    "def post_process_image(img,hull = True):\n",
    "    \n",
    "    dst = img[:,:,0]\n",
    "    \n",
    "    #kernel = np.ones((3, 3), np.uint8)\n",
    "    #dst = cv2.erode(dst, kernel,iterations= 3) \n",
    "\n",
    "    contours, hierarchy = cv2.findContours(dst, cv2.RETR_TREE, cv2.CHAIN_APPROX_SIMPLE)\n",
    "\n",
    "    #create an empty image for contours\n",
    "    img_contours = np.zeros(img.shape)\n",
    "    # draw the contours on the empty image\n",
    "    cs = [(c,cv2.contourArea(c)) for c in contours]\n",
    "    cs.sort(key=lambda x:x[1])\n",
    "    if hull:\n",
    "        hulls = [cv2.convexHull(p[0]) for p in cs[-2:]]\n",
    "        cv2.drawContours(img_contours, hulls, -1, (0,255,0), -1)\n",
    "    else:\n",
    "        contours2 = [p[0] for p in cs[-2:]]\n",
    "        cv2.drawContours(img_contours, contours2, -1, (0,255,0), -1)\n",
    "    return img_contours\n",
    "\n",
    "def find_img(path):\n",
    "    img = cv2.imread(path)\n",
    "    return img.shape"
   ]
  },
  {
   "cell_type": "code",
   "execution_count": null,
   "id": "f6aa0080",
   "metadata": {},
   "outputs": [],
   "source": [
    "from matplotlib.pyplot import imshow\n",
    "import numpy as np\n",
    "from PIL import Image\n",
    "import matplotlib.pyplot as plt\n",
    "\n",
    "img = cv2.imread(BASE_MASKS + 'patient00005_study1_view1_frontal.jpg')\n",
    "\n",
    "plt.imshow(cv2.cvtColor(img[:,:,0], cv2.COLOR_BGR2RGB))\n",
    "plt.axis('off')\n",
    "plt.title(\"Image after Component Labeling\")\n",
    "plt.show()\n",
    "\n",
    "plt.imshow(post_process_image(img))\n",
    "plt.axis('off')\n",
    "plt.title(\"Image after Component Labeling\")\n",
    "plt.show()"
   ]
  },
  {
   "cell_type": "code",
   "execution_count": null,
   "id": "daa46486",
   "metadata": {},
   "outputs": [],
   "source": [
    "find_chest_width(BASE_MASKS + 'patient00005_study1_view1_frontal.jpg',post_process=True)"
   ]
  },
  {
   "cell_type": "code",
   "execution_count": null,
   "id": "4ae62f2c",
   "metadata": {},
   "outputs": [],
   "source": [
    "find_chest_width(BASE_MASKS + 'patient00005_study1_view1_frontal.jpg',post_process=False)"
   ]
  },
  {
   "cell_type": "code",
   "execution_count": null,
   "id": "30268127",
   "metadata": {},
   "outputs": [],
   "source": [
    "(img[:,:,0] > 0)[100]"
   ]
  },
  {
   "cell_type": "code",
   "execution_count": null,
   "id": "f436cd1b",
   "metadata": {},
   "outputs": [],
   "source": [
    "import pandas as pd\n",
    "\n",
    "df = pd.read_csv(CHEXPERT_TRAIN)\n",
    "df = df.fillna(0)\n",
    "df.head()"
   ]
  },
  {
   "cell_type": "code",
   "execution_count": null,
   "id": "4c1c701a",
   "metadata": {},
   "outputs": [],
   "source": [
    "import pickle\n",
    "import cv2\n",
    "\n",
    "\n",
    "with open('./intermediate/out_heartmodel2AFTERPRETRAINING4.pickle', 'rb') as handle:\n",
    "     out_heart = pickle.load(handle)\n",
    "        \n",
    "with open('./intermediate/out_pathsmodel2AFTERPRETRAINING4.pickle', 'rb') as handle:\n",
    "     out_paths = pickle.load(handle)"
   ]
  },
  {
   "cell_type": "code",
   "execution_count": null,
   "id": "0c71b20b",
   "metadata": {},
   "outputs": [],
   "source": [
    "import numpy as np\n",
    "from tqdm import tqdm\n",
    "\n",
    "def calculate_ctr(top_k=5):\n",
    "    ctr_count_no = 0\n",
    "    ctr_amount_no = 0\n",
    "\n",
    "    ctr_count_un = 0\n",
    "    ctr_amount_un = 0\n",
    "\n",
    "    ctr_count = 0\n",
    "    ctr_amount = 0\n",
    "\n",
    "    ctr_healthy = []\n",
    "    ctr_uncertain = []\n",
    "    ctr_cardiomegaly = []\n",
    "    \n",
    "    processed = []\n",
    "\n",
    "    for path, heart in tqdm(list(zip(out_paths,out_heart))):\n",
    "        #if path in ignore:\n",
    "        #    continue\n",
    "        boxes = heart[1]['boxes']\n",
    "        #print(path)\n",
    "        boxes_to_consider = boxes[0:top_k]\n",
    "       \n",
    "        widths_in_pixels = (boxes_to_consider[:,2] - boxes_to_consider[:,0]).cpu().numpy() \n",
    "        min_val,max_val,width = find_chest_width(BASE_MASKS + path)\n",
    "\n",
    "        h,w,c = find_img(BASE_IMG + path)\n",
    "        heart = widths_in_pixels.sum()/(top_k*w)\n",
    "        chest = (max_val-min_val)/width\n",
    "\n",
    "        row = df[df.Path.eq(BASE_EXTRA + path.replace('_','/',2))]\n",
    "        #print('-------------------')\n",
    "        #print(abs(row[row.columns[5:]].sum()).sum())\n",
    "        #print(row['Sex'].values[0])\n",
    "        #print(row['Support Devices'].values[0])\n",
    "        #print(row['Cardiomegaly'])\n",
    "        #print(row['No Finding'].values)\n",
    "        clazz = -1\n",
    "        uncertain = False\n",
    "        if row['No Finding'].values[0] == 1:\n",
    "            ctr_count_no += 1\n",
    "            ctr_amount_no += heart/chest\n",
    "            ctr_healthy.append(heart/chest)\n",
    "            clazz = 0\n",
    "        elif row['Cardiomegaly'].values[0] == 1:\n",
    "            ctr_count += 1\n",
    "            ctr_amount += heart/chest\n",
    "            ctr_cardiomegaly.append(heart/chest)\n",
    "            clazz = 1\n",
    "        else:\n",
    "            ctr_count_un += 1\n",
    "            ctr_amount_un += heart/chest\n",
    "            ctr_uncertain.append(heart/chest)\n",
    "            uncertain = True\n",
    "            clazz = 1\n",
    "            \n",
    "        ctr =  heart/chest\n",
    "        processed.append(\n",
    "            (path,ctr,clazz,heart,chest,boxes_to_consider,uncertain,\n",
    "             row['Sex'].values[0],row['Support Devices'].values[0],abs(row[row.columns[5:]].sum()).sum())\n",
    "        )\n",
    "    return processed,ctr_amount_no,ctr_count_no,ctr_amount_un,ctr_count_un,ctr_amount,ctr_count,ctr_healthy,ctr_cardiomegaly,ctr_uncertain\n",
    "    "
   ]
  },
  {
   "cell_type": "code",
   "execution_count": null,
   "id": "8be79405",
   "metadata": {},
   "outputs": [],
   "source": [
    "p, ctr_amount_no,ctr_count_no,ctr_amount_un,ctr_count_un,ctr_amount,ctr_count,ctr_healthy,ctr_cardiomegaly,ctr_uncertain = calculate_ctr(top_k=1)"
   ]
  },
  {
   "cell_type": "code",
   "execution_count": null,
   "id": "3f643a32",
   "metadata": {},
   "outputs": [],
   "source": [
    "optimal_threshold = 0\n",
    "optimal_accuracy = 0\n",
    "\n",
    "for i in range(100):\n",
    "    threshold = i/100\n",
    "    c = 0\n",
    "    for example in p:\n",
    "        prediction = -1\n",
    "        #if example[2] == -1:\n",
    "        #    continue\n",
    "        if example[1] >= threshold:\n",
    "            prediction = 1\n",
    "        else:\n",
    "            prediction = 0\n",
    "        correct = prediction == example[2]\n",
    "        if correct:\n",
    "            c += 1\n",
    "\n",
    "    if c/(len(p)) > optimal_accuracy:\n",
    "        optimal_accuracy = c/(len(p))\n",
    "        optimal_threshold = threshold\n",
    "        \n",
    "print(optimal_threshold, optimal_accuracy)"
   ]
  },
  {
   "cell_type": "code",
   "execution_count": null,
   "id": "d5b73e91",
   "metadata": {},
   "outputs": [],
   "source": [
    "ctr_amount_no/ctr_count_no,ctr_amount_un/ctr_count_un,ctr_amount/ctr_count"
   ]
  },
  {
   "cell_type": "code",
   "execution_count": null,
   "id": "ec55fd24",
   "metadata": {},
   "outputs": [],
   "source": [
    "print(len(ctr_uncertain))\n",
    "print(len([x for x in ctr_uncertain if x<.55 and x > .45]))\n",
    "print(len([x for x in ctr_cardiomegaly if x<.55 and x > .45]))\n",
    "print(len([x for x in ctr_healthy if x<.55 and x > .45]))"
   ]
  },
  {
   "cell_type": "code",
   "execution_count": null,
   "id": "228fb0e6",
   "metadata": {},
   "outputs": [],
   "source": [
    "import matplotlib.pyplot as plt\n",
    "import numpy as np\n",
    "\n",
    "distributionA = np.random.normal(0.3, 0.1, 1000)\n",
    "distributionB = np.random.normal(0.5, 0.1, 1000)\n",
    "distributionC = np.random.normal(0.7, 0.1, 1000)\n",
    "\n",
    "labels = np.array(range(20))/20\n",
    "no_finding = np.histogram(ctr_healthy,bins=np.arange(21)/20)\n",
    "uncertain = np.histogram(ctr_uncertain,bins=np.arange(21)/20)\n",
    "cardiomegaly = np.histogram(ctr_cardiomegaly,bins=np.arange(21)/20)\n",
    "\n",
    "x = np.arange(len(labels)) *2 # the label locations\n",
    "width = 0.5# the width of the bars\n",
    "\n",
    "\n",
    "\n",
    "fig, ax = plt.subplots(figsize=(10,5))\n",
    "\n",
    "plt.axvline(x=np.average(ctr_healthy)*40, color='blue', linestyle='--')\n",
    "plt.axvline(x=np.average(ctr_uncertain)*40, color='orange', linestyle='--')\n",
    "plt.axvline(x=np.average(ctr_cardiomegaly)*40, color='green', linestyle='--')\n",
    "\n",
    "rects1 = ax.bar(x - width, no_finding[0], width, label='No Finding')\n",
    "rects2 = ax.bar(x, uncertain[0], width, label='Uncertain')\n",
    "rects3 = ax.bar(x + width, cardiomegaly[0] , width, label='Cardiomegaly')\n",
    "\n",
    "# Add some text for labels, title and custom x-axis tick labels, etc.\n",
    "ax.set_ylabel('Count')\n",
    "ax.set_xlabel('Predicted cardiothoracic ratio')\n",
    "ax.set_title('Predicted cardiothoracic ratio count grouped by ground-truth label')\n",
    "ax.set_xticks(x)\n",
    "ax.set_xticklabels(labels)\n",
    "ax.legend()\n",
    "fig.tight_layout()\n",
    "\n",
    "plt.show()\n"
   ]
  },
  {
   "cell_type": "code",
   "execution_count": null,
   "id": "4606cd3b",
   "metadata": {},
   "outputs": [],
   "source": [
    "p[0]"
   ]
  },
  {
   "cell_type": "code",
   "execution_count": null,
   "id": "1f63fd23",
   "metadata": {},
   "outputs": [],
   "source": [
    "ctr_count_no,ctr_count_un,ctr_count"
   ]
  },
  {
   "cell_type": "code",
   "execution_count": null,
   "id": "dab61d90",
   "metadata": {},
   "outputs": [],
   "source": [
    "wrong_uncertain = [x for x in p if x[1] < 0.50  and x[2] == 1 and x[6] is True]\n",
    "wrong_certain = [x for x in p if x[1] < 0.50  and x[2] == 1 and x[6] is False]\n",
    "len(wrong_certain), len(wrong_uncertain)\n",
    "wrong = [x for x in p if x[1] > 0.55  and x[2] == 0]"
   ]
  },
  {
   "cell_type": "code",
   "execution_count": null,
   "id": "a27a0bfe",
   "metadata": {},
   "outputs": [],
   "source": [
    "plt.rcParams[\"figure.figsize\"] = (20,10)\n",
    "\n",
    "img = cv2.imread(BASE_MASKS + wrong[idx][0])\n",
    "path = '../CheXpert-v1.0-small/train/' + wrong[idx][0].replace('_','/',2)\n",
    "img2 = cv2.imread(path)\n",
    "\n",
    "h,w,c = find_img(BASE_IMG + wrong[idx][0])\n",
    "print(wrong[idx])\n",
    "x0,y0,x1,y1 = wrong[idx][5].cpu().numpy()[0]\n",
    "#x0,y0,x1,y1\n",
    "print('Box ', x0,y0,x1,y1)\n",
    "img3 = cv2.rectangle(img2, (x0,y0), (x1,y1), (0, 0, 255), 2)\n",
    "\n",
    "f, axarr = plt.subplots(1,3)\n",
    "axarr[0].imshow(img[:,:,0])\n",
    "axarr[1].imshow(post_process_image(img,hull=False))\n",
    "axarr[2].imshow(img3)\n",
    "\n",
    "print(df[df.Path == 'CheXpert-v1.0-small/train/' + wrong[idx][0].replace('_','/',2)])\n",
    "print(idx)\n",
    "idx +=1\n"
   ]
  },
  {
   "cell_type": "code",
   "execution_count": null,
   "id": "0b300c23",
   "metadata": {},
   "outputs": [],
   "source": [
    "from matplotlib.pyplot import imshow\n",
    "import matplotlib.pyplot as plt\n",
    "import numpy as np\n",
    "from PIL import Image\n",
    "from matplotlib.pyplot import figure\n",
    "\n",
    "def show_image(image_path,bounding_box):\n",
    "    plt.rcParams[\"figure.figsize\"] = (20,10)\n",
    "\n",
    "    img = cv2.imread(BASE_MASKS + image_path)\n",
    "    path = '../CheXpert-v1.0-small/train/' + image_path.replace('_','/',2)\n",
    "    img2 = cv2.imread(path)\n",
    "\n",
    "    h,w,c = find_img(BASE_IMG + image_path)\n",
    "    x0,y0,x1,y1 = bounding_box\n",
    "    print('Box ', x0,y0,x1,y1)\n",
    "    img3 = cv2.rectangle(img2, (x0,y0), (x1,y1), (0, 0, 255), 2)\n",
    "\n",
    "    f, axarr = plt.subplots(1,3)\n",
    "    axarr[0].imshow(img[:,:,0])\n",
    "    axarr[1].imshow(post_process_image(img,hull=False))\n",
    "    axarr[2].imshow(img3)\n",
    "\n",
    "    print(df[df.Path == 'CheXpert-v1.0-small/train/' + image_path.replace('_','/',2)])\n",
    "\n"
   ]
  },
  {
   "cell_type": "code",
   "execution_count": null,
   "id": "830b618a",
   "metadata": {},
   "outputs": [],
   "source": [
    "p[0]"
   ]
  },
  {
   "cell_type": "code",
   "execution_count": null,
   "id": "013a3ca8",
   "metadata": {},
   "outputs": [],
   "source": [
    "[x for x in p if x[8] != 1 and x[8] != 0]"
   ]
  },
  {
   "cell_type": "code",
   "execution_count": null,
   "id": "f89b35dc",
   "metadata": {},
   "outputs": [],
   "source": [
    "np.unique(np.array([x[9] for x in p]))"
   ]
  },
  {
   "cell_type": "code",
   "execution_count": null,
   "id": "9628bf5d",
   "metadata": {},
   "outputs": [],
   "source": [
    "correct =  np.array([x[2] for x in p if x[9] == 1])\n",
    "predicted =  np.array([x[1] for x in p  if x[9] == 1]"
   ]
  },
  {
   "cell_type": "code",
   "execution_count": null,
   "id": "7e581c11",
   "metadata": {},
   "outputs": [],
   "source": [
    "correct2 =  np.array([x[2] for x in p if x[9] == 2])\n",
    "predicted2 =  np.array([x[1] for x in p  if x[9] == 2])"
   ]
  },
  {
   "cell_type": "code",
   "execution_count": null,
   "id": "839888ce",
   "metadata": {},
   "outputs": [],
   "source": [
    "correct3 = np.array([x[2] for x in p if x[9] == 3])\n",
    "predicted3 = np.array([x[1] for x in p  if x[9] == 3])"
   ]
  },
  {
   "cell_type": "code",
   "execution_count": null,
   "id": "d70bed02",
   "metadata": {},
   "outputs": [],
   "source": [
    "correct4 = np.array([x[2] for x in p if x[9] == 4])\n",
    "predicted4 = np.array([x[1] for x in p  if x[9] == 4])"
   ]
  },
  {
   "cell_type": "code",
   "execution_count": null,
   "id": "bd3c45ac",
   "metadata": {},
   "outputs": [],
   "source": [
    "correct5 = np.array([x[2] for x in p if x[9] > 5])\n",
    "predicted5 = np.array([x[1] for x in p  if x[9] > 5])"
   ]
  },
  {
   "cell_type": "code",
   "execution_count": null,
   "id": "5b27ba50",
   "metadata": {},
   "outputs": [],
   "source": [
    "(correct == (predicted > 0.5)).mean()"
   ]
  },
  {
   "cell_type": "code",
   "execution_count": null,
   "id": "9f06e659",
   "metadata": {},
   "outputs": [],
   "source": [
    "(correct2 == (predicted2 > 0.5)).mean()"
   ]
  },
  {
   "cell_type": "code",
   "execution_count": null,
   "id": "4086d4f2",
   "metadata": {},
   "outputs": [],
   "source": [
    "(correct3 == (predicted3 > 0.5)).mean()"
   ]
  },
  {
   "cell_type": "code",
   "execution_count": null,
   "id": "99974bc8",
   "metadata": {},
   "outputs": [],
   "source": [
    "(correct4 == (predicted4 > 0.5)).mean()"
   ]
  },
  {
   "cell_type": "code",
   "execution_count": null,
   "id": "f86173a1",
   "metadata": {},
   "outputs": [],
   "source": [
    "(correct5 == (predicted5 > 0.5)).mean()"
   ]
  },
  {
   "cell_type": "code",
   "execution_count": null,
   "id": "94b8951d",
   "metadata": {},
   "outputs": [],
   "source": [
    "len(correct5)"
   ]
  },
  {
   "cell_type": "code",
   "execution_count": null,
   "id": "43d160b2",
   "metadata": {},
   "outputs": [],
   "source": [
    "len(correct), len(correct2), len(correct3), len(correct4), len(correct5)"
   ]
  },
  {
   "cell_type": "code",
   "execution_count": null,
   "id": "30b683d0",
   "metadata": {},
   "outputs": [],
   "source": [
    "sample = [x for x in p if x[0] == 'patient14064_study1_view1_frontal.jpg'][0]\n",
    "show_image(sample[0],sample[5].cpu().numpy()[0])\n",
    "\n",
    "wrong_uncertain = [x for x in p if x[1] < 0.50  and x[2] == 1 and x[6] is True]\n",
    "wrong_certain = [x for x in p if x[1] < 0.50  and x[2] == 1 and x[6] is False]\n",
    "len(wrong_certain), len(wrong_uncertain)\n",
    "wrong = [x for x in p if x[1] > 0.55  and x[2] == 0]"
   ]
  },
  {
   "cell_type": "code",
   "execution_count": null,
   "id": "1c09d8f2",
   "metadata": {},
   "outputs": [],
   "source": [
    "study = [x for x in p if x[1] <0.45 and x[2] == 1]\n",
    "idx = 0\n",
    "len(study)"
   ]
  },
  {
   "cell_type": "code",
   "execution_count": null,
   "id": "3607eb92",
   "metadata": {},
   "outputs": [],
   "source": [
    "np.array([x[1] for x in study]).mean()"
   ]
  },
  {
   "cell_type": "code",
   "execution_count": null,
   "id": "0c7269f7",
   "metadata": {},
   "outputs": [],
   "source": [
    "show_image(study[idx][0],study[idx][5].cpu().numpy()[0])\n",
    "print(study[idx][1])\n",
    "print(idx)\n",
    "idx+=1"
   ]
  },
  {
   "cell_type": "code",
   "execution_count": null,
   "id": "ea4e1ec1",
   "metadata": {},
   "outputs": [],
   "source": []
  },
  {
   "cell_type": "code",
   "execution_count": null,
   "id": "719c6536",
   "metadata": {},
   "outputs": [],
   "source": [
    "from sklearn.datasets import make_classification\n",
    "from sklearn.linear_model import LogisticRegression\n",
    "from sklearn.model_selection import train_test_split\n",
    "from sklearn.metrics import roc_curve\n",
    "from sklearn.metrics import roc_auc_score\n",
    "from matplotlib import pyplot\n",
    "\n",
    "\n",
    "ns_probs = [0 for _ in range(len(correct))]\n",
    "ns_auc = roc_auc_score(correct, ns_probs)\n",
    "lr_auc = roc_auc_score(correct, predicted)\n",
    "lr_auc2 = roc_auc_score(correct2, predicted2)\n",
    "#lr_auc3 = roc_auc_score(correct3, predicted3)\n",
    "#lr_auc4 = roc_auc_score(correct4, predicted4)\n",
    "#lr_auc5 = roc_auc_score(correct5, predicted5)\n",
    "print('No Skill: ROC AUC=%.7f' % (ns_auc))\n",
    "print('Logistic: ROC AUC=%.7f' % (lr_auc))\n",
    "print('Logistic: ROC AUC=%.7f' % (lr_auc2))\n",
    "#print('Logistic: ROC AUC=%.7f' % (lr_auc3))\n",
    "#print('Logistic: ROC AUC=%.7f' % (lr_auc4))\n",
    "#print('Logistic: ROC AUC=%.7f' % (lr_auc5))\n",
    "\n",
    "ns_fpr, ns_tpr, _ = roc_curve(correct, ns_probs)\n",
    "lr_fpr, lr_tpr, _ = roc_curve(correct,  predicted)\n",
    "lr_fpr2, lr_tpr2, _ = roc_curve(correct2,  predicted2)\n",
    "#lr_fpr3, lr_tpr3, _ = roc_curve(correct3,  predicted3)\n",
    "#lr_fpr4, lr_tpr4, _ = roc_curve(correct4,  predicted4)\n",
    "#lr_fpr5, lr_tpr5, _ = roc_curve(correct5,  predicted5)\n",
    "plt.rcParams[\"figure.figsize\"] = (10,5)\n",
    "pyplot.plot(ns_fpr, ns_tpr, linestyle='--', label='Baseline')\n",
    "pyplot.plot(lr_fpr, lr_tpr, marker='.', label='Model finetuned - 1 observation')\n",
    "pyplot.plot(lr_fpr2, lr_tpr2, marker='.', label='Model finetuned - 2 observations')\n",
    "#pyplot.plot(lr_fpr3, lr_tpr3, marker='.', label='Model finetuned - Uncertain about support devices')\n",
    "#pyplot.plot(lr_fpr4, lr_tpr4, marker='.', label='Model finetuned - No Support devices')\n",
    "#pyplot.plot(lr_fpr5, lr_tpr5, marker='.', label='Model finetuned - Uncertain about support devices')\n",
    "pyplot.xlabel('False Positive Rate')\n",
    "pyplot.ylabel('True Positive Rate')\n",
    "\n",
    "pyplot.legend()\n",
    "\n",
    "pyplot.show()\n",
    "from sklearn.metrics import precision_recall_fscore_support\n",
    "\n",
    "precision_recall_fscore_support(correct, (np.array(predicted) > 0.50)*1, average='macro')"
   ]
  },
  {
   "cell_type": "code",
   "execution_count": null,
   "id": "14c07983",
   "metadata": {},
   "outputs": [],
   "source": []
  },
  {
   "cell_type": "code",
   "execution_count": null,
   "id": "57326980",
   "metadata": {},
   "outputs": [],
   "source": []
  },
  {
   "cell_type": "code",
   "execution_count": null,
   "id": "f0b98bd8",
   "metadata": {},
   "outputs": [],
   "source": []
  }
 ],
 "metadata": {
  "kernelspec": {
   "display_name": "cs230-project",
   "language": "python",
   "name": "cs230-project"
  },
  "language_info": {
   "codemirror_mode": {
    "name": "ipython",
    "version": 3
   },
   "file_extension": ".py",
   "mimetype": "text/x-python",
   "name": "python",
   "nbconvert_exporter": "python",
   "pygments_lexer": "ipython3",
   "version": "3.8.8"
  }
 },
 "nbformat": 4,
 "nbformat_minor": 5
}
